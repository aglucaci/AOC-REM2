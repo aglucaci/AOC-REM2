{
 "cells": [
  {
   "cell_type": "markdown",
   "id": "focal-course",
   "metadata": {},
   "source": [
    "# Import libraries"
   ]
  },
  {
   "cell_type": "code",
   "execution_count": 2,
   "id": "49df2e3a",
   "metadata": {},
   "outputs": [],
   "source": [
    "import pandas as pd\n",
    "import numpy as np\n",
    "import os\n",
    "import json\n",
    "import glob\n",
    "from os.path import exists\n"
   ]
  },
  {
   "cell_type": "markdown",
   "id": "aware-eight",
   "metadata": {},
   "source": [
    "# Declares"
   ]
  },
  {
   "cell_type": "code",
   "execution_count": 6,
   "id": "57903e0e",
   "metadata": {},
   "outputs": [
    {
     "name": "stdout",
     "output_type": "stream",
     "text": [
      "# Processing: H:\\AOC-REM2\\results\\mammalian_REM2\n",
      "# Found 1 recombination free files\n"
     ]
    }
   ],
   "source": [
    "# User input ---\n",
    "BASEDIR = os.path.join(\"H:\\\\\", \"AOC-REM2\")\n",
    "ANALYSIS_TAG = \"mammalian_REM2\"\n",
    "\n",
    "# Default ---\n",
    "ANALYSIS_DIR = os.path.join(BASEDIR, \"results\", ANALYSIS_TAG)\n",
    "print(\"# Processing:\", ANALYSIS_DIR)\n",
    "\n",
    "recombinants = glob.glob(os.path.join(ANALYSIS_DIR, \"*codons.SA.fasta\"))\n",
    "print(\"# Found\", len(recombinants), \"recombination free files\")\n",
    "\n",
    "recombinants_basenames = [os.path.basename(x) for x in recombinants]\n",
    "#METHODS = [\"FEL\"]\n",
    "#EL_results = glob.glob(os.path.join(ANALYSIS_DIR, \"*.codon.fas.FEL.json\"))\n",
    "\n",
    "# Initialized ---\n",
    "results_dict = {}\n",
    "#print(\"# Initializing results information\")\n",
    "\n",
    "# Threshold settings ---\n",
    "pvalueThreshold = 0.1\n",
    "\n"
   ]
  },
  {
   "cell_type": "markdown",
   "id": "atomic-entrepreneur",
   "metadata": {},
   "source": [
    "# Helper functions"
   ]
  },
  {
   "cell_type": "code",
   "execution_count": 7,
   "id": "59232f6f",
   "metadata": {},
   "outputs": [],
   "source": [
    "def get_JSON(json_file):\n",
    "    with open(json_file, \"r\") as in_d:\n",
    "        json_data = json.load(in_d)\n",
    "    return json_data\n",
    "#end method\n",
    "\n",
    "def get_PRIME_results(json_file, pThreshold = 0.1):\n",
    "    # Check if file exists\n",
    "    if exists(json_file):\n",
    "        data = get_JSON(json_file)\n",
    "    else:\n",
    "        return \"N/A\"\n",
    "    #end if\n",
    "    columns = data[\"MLE\"][\"headers\"]\n",
    "    headers = [x[0] for x in columns]\n",
    "    df = pd.DataFrame(data[\"MLE\"][\"content\"][\"0\"], columns=headers)\n",
    "    overall_pvalue_df = df[df[\"p-value\"] <= pThreshold]\n",
    "    return overall_pvalue_df.shape[0]\n",
    "#end method\n",
    "    \n",
    "def get_FUBAR_results(json_file, posteriorThreshold = 0.9):\n",
    "    data = get_JSON(json_file)\n",
    "    #print(data)\n",
    "    columns = data[\"MLE\"][\"headers\"]\n",
    "    headers = [x[0] for x in columns]\n",
    "    headers.append(\"Z\") # Placeholders\n",
    "    headers.append(\"Y\") # Placeholders\n",
    "    df = pd.DataFrame(data[\"MLE\"][\"content\"][\"0\"], columns=headers)\n",
    "    positive_sites = df[df[\"Prob[alpha<beta]\"] >= posteriorThreshold]\n",
    "    negative_sites = df[df[\"Prob[alpha>beta]\"] >= posteriorThreshold]\n",
    "    return positive_sites.shape[0], negative_sites.shape[0]\n",
    "#end method\n",
    "\n",
    "def get_SLAC_results(json_file, pThreshold = 0.1):\n",
    "    # Check if file exists\n",
    "    if exists(json_file):\n",
    "        data = get_JSON(json_file)\n",
    "    else:\n",
    "        return \"N/A\"\n",
    "    #end if\n",
    "    columns = data[\"MLE\"][\"headers\"]\n",
    "    headers = [x[0] for x in columns]\n",
    "    df = pd.DataFrame(data[\"MLE\"][\"content\"][\"0\"], columns=headers)\n",
    "    #print(df)\n",
    "    positive_sites = df[df[\"P [dN/dS > 1]\"] <= pThreshold]\n",
    "    negative_sites = df[df[\"P [dN/dS < 1]\"] <= pThreshold]\n",
    "    return positive_sites.shape[0], negative_sites.shape[0]\n",
    "#end method\n",
    "\n",
    "\n",
    "def get_BGM_results(json_file, posteriorThreshold = 0.5):\n",
    "    # Check if file exists\n",
    "    if exists(json_file):\n",
    "        data = get_JSON(json_file)\n",
    "    else:\n",
    "        return \"N/A\"\n",
    "    #end if\n",
    "    #print(data)\n",
    "    columns = data[\"MLE\"][\"headers\"]\n",
    "    headers = [x[0] for x in columns]\n",
    "    headers2= []\n",
    "    for item in headers:\n",
    "        item = item.replace('â€“', \"-\")\n",
    "        headers2.append(item)\n",
    "    #df = pd.DataFrame(getBGMData(JSON_FILE), columns=headers2, dtype = float)\n",
    "    df = pd.DataFrame(data[\"MLE\"][\"content\"][\"0\"], columns=headers2)\n",
    "    coevolving_sites_1 = df[df[\"P [Site 1 -> Site 2]\"] >= posteriorThreshold]\n",
    "    coevolving_sites_2 = df[df[\"P [Site 2 -> Site 1]\"] >= posteriorThreshold]\n",
    "    coevolving_sites_3 = df[df[\"P [Site 1 <-> Site 2]\"] >= posteriorThreshold]\n",
    "    return coevolving_sites_3.shape[0]\n",
    "#end method\n",
    "\n",
    "def get_aBSREL_results(json_file):\n",
    "    # Check if file exists\n",
    "    if exists(json_file):\n",
    "        data = get_JSON(json_file)\n",
    "    else:\n",
    "        return \"N/A\"\n",
    "    #end if\n",
    "    return data[\"test results\"][\"positive test results\"]\n",
    "#end method\n",
    "\n",
    "def get_RELAX_results(json_file):\n",
    "    # Check if file exists\n",
    "    if exists(json_file):\n",
    "        data = get_JSON(json_file)\n",
    "    else:\n",
    "        return \"N/A\"\n",
    "    #end if\n",
    "    pval = data[\"test results\"][\"p-value\"]\n",
    "    k = data[\"test results\"][\"relaxation or intensification parameter\"]\n",
    "    #if float(pval) <= 0.05: \n",
    "    ##    if float(k) > 1.0:\n",
    "    #        result = \"intensification\"\n",
    "    return pval\n",
    "#end method\n",
    "\n",
    "def get_FMM_results(json_file):\n",
    "    # Check if file exists\n",
    "    if exists(json_file):\n",
    "        data = get_JSON(json_file)\n",
    "    else:\n",
    "        return \"N/A\"\n",
    "    #end if\n",
    "    TH_pval = data[\"test results\"][\"Triple-hit vs single-hit\"][\"p-value\"]\n",
    "    DH_pval = data[\"test results\"][\"Double-hit vs single-hit\"][\"p-value\"]\n",
    "    return TH_pval, DH_pval\n",
    "#end method\n",
    "\n",
    "def get_CFEL_results(json_file):\n",
    "    # Check if file exists\n",
    "    if exists(json_file):\n",
    "        data = get_JSON(json_file)\n",
    "    else:\n",
    "        return \"N/A\"\n",
    "    #end if\n",
    "    \n",
    "    columns = data[\"MLE\"][\"headers\"]\n",
    "    headers = [x[0] for x in columns]\n",
    "    df = pd.DataFrame(data[\"MLE\"][\"content\"][\"0\"], columns=headers)\n",
    "    # P-value (overall)\n",
    "    results = df[df[\"Q-value (overall)\"] <= 0.2]\n",
    "    return results.shape[0]\n",
    "#end method\n",
    "    \n",
    "def get_FitMG94_results(json_file):\n",
    "    # Check if file exists\n",
    "    if exists(json_file):\n",
    "        data = get_JSON(json_file)\n",
    "    else:\n",
    "        return \"N/A\"\n",
    "    #end if\n",
    "    return data[\"fits\"][\"Standard MG94\"][\"Rate Distributions\"][\"non-synonymous/synonymous rate ratio\"]\n",
    "#end method"
   ]
  },
  {
   "cell_type": "markdown",
   "id": "thick-fisher",
   "metadata": {},
   "source": [
    "## Main"
   ]
  },
  {
   "cell_type": "code",
   "execution_count": 12,
   "id": "ae1b65fd",
   "metadata": {},
   "outputs": [
    {
     "name": "stdout",
     "output_type": "stream",
     "text": [
      "# Exploring: H:\\AOC-REM2\\results\\mammalian_REM2\\mammalian_REM2_codons.SA.fasta\n",
      "# Processing: H:\\AOC-REM2\\results\\mammalian_REM2\\mammalian_REM2_codons.SA.fasta.BGM.json\n"
     ]
    },
    {
     "ename": "TypeError",
     "evalue": "list indices must be integers or slices, not str",
     "output_type": "error",
     "traceback": [
      "\u001b[1;31m---------------------------------------------------------------------------\u001b[0m",
      "\u001b[1;31mTypeError\u001b[0m                                 Traceback (most recent call last)",
      "\u001b[1;32m<ipython-input-12-fbf55f587175>\u001b[0m in \u001b[0;36m<module>\u001b[1;34m\u001b[0m\n\u001b[0;32m     39\u001b[0m     \u001b[1;31m# BGM results\u001b[0m\u001b[1;33m\u001b[0m\u001b[1;33m\u001b[0m\u001b[1;33m\u001b[0m\u001b[0m\n\u001b[0;32m     40\u001b[0m     \u001b[0mprint\u001b[0m \u001b[1;33m(\u001b[0m\u001b[1;34m\"# Processing:\"\u001b[0m\u001b[1;33m,\u001b[0m \u001b[0mBGM_JSON\u001b[0m\u001b[1;33m)\u001b[0m\u001b[1;33m\u001b[0m\u001b[1;33m\u001b[0m\u001b[0m\n\u001b[1;32m---> 41\u001b[1;33m     \u001b[0mBGM_results\u001b[0m \u001b[1;33m=\u001b[0m \u001b[0mget_BGM_results\u001b[0m\u001b[1;33m(\u001b[0m\u001b[0mBGM_JSON\u001b[0m\u001b[1;33m)\u001b[0m\u001b[1;33m\u001b[0m\u001b[1;33m\u001b[0m\u001b[0m\n\u001b[0m\u001b[0;32m     42\u001b[0m \u001b[1;33m\u001b[0m\u001b[0m\n\u001b[0;32m     43\u001b[0m     \u001b[1;31m# aBSREL results\u001b[0m\u001b[1;33m\u001b[0m\u001b[1;33m\u001b[0m\u001b[1;33m\u001b[0m\u001b[0m\n",
      "\u001b[1;32m<ipython-input-7-c8f179c8b6c9>\u001b[0m in \u001b[0;36mget_BGM_results\u001b[1;34m(json_file, posteriorThreshold)\u001b[0m\n\u001b[0;32m     64\u001b[0m         \u001b[0mheaders2\u001b[0m\u001b[1;33m.\u001b[0m\u001b[0mappend\u001b[0m\u001b[1;33m(\u001b[0m\u001b[0mitem\u001b[0m\u001b[1;33m)\u001b[0m\u001b[1;33m\u001b[0m\u001b[1;33m\u001b[0m\u001b[0m\n\u001b[0;32m     65\u001b[0m     \u001b[1;31m#df = pd.DataFrame(getBGMData(JSON_FILE), columns=headers2, dtype = float)\u001b[0m\u001b[1;33m\u001b[0m\u001b[1;33m\u001b[0m\u001b[1;33m\u001b[0m\u001b[0m\n\u001b[1;32m---> 66\u001b[1;33m     \u001b[0mdf\u001b[0m \u001b[1;33m=\u001b[0m \u001b[0mpd\u001b[0m\u001b[1;33m.\u001b[0m\u001b[0mDataFrame\u001b[0m\u001b[1;33m(\u001b[0m\u001b[0mdata\u001b[0m\u001b[1;33m[\u001b[0m\u001b[1;34m\"MLE\"\u001b[0m\u001b[1;33m]\u001b[0m\u001b[1;33m[\u001b[0m\u001b[1;34m\"content\"\u001b[0m\u001b[1;33m]\u001b[0m\u001b[1;33m[\u001b[0m\u001b[1;34m\"0\"\u001b[0m\u001b[1;33m]\u001b[0m\u001b[1;33m,\u001b[0m \u001b[0mcolumns\u001b[0m\u001b[1;33m=\u001b[0m\u001b[0mheaders2\u001b[0m\u001b[1;33m)\u001b[0m\u001b[1;33m\u001b[0m\u001b[1;33m\u001b[0m\u001b[0m\n\u001b[0m\u001b[0;32m     67\u001b[0m     \u001b[0mcoevolving_sites_1\u001b[0m \u001b[1;33m=\u001b[0m \u001b[0mdf\u001b[0m\u001b[1;33m[\u001b[0m\u001b[0mdf\u001b[0m\u001b[1;33m[\u001b[0m\u001b[1;34m\"P [Site 1 -> Site 2]\"\u001b[0m\u001b[1;33m]\u001b[0m \u001b[1;33m>=\u001b[0m \u001b[0mposteriorThreshold\u001b[0m\u001b[1;33m]\u001b[0m\u001b[1;33m\u001b[0m\u001b[1;33m\u001b[0m\u001b[0m\n\u001b[0;32m     68\u001b[0m     \u001b[0mcoevolving_sites_2\u001b[0m \u001b[1;33m=\u001b[0m \u001b[0mdf\u001b[0m\u001b[1;33m[\u001b[0m\u001b[0mdf\u001b[0m\u001b[1;33m[\u001b[0m\u001b[1;34m\"P [Site 2 -> Site 1]\"\u001b[0m\u001b[1;33m]\u001b[0m \u001b[1;33m>=\u001b[0m \u001b[0mposteriorThreshold\u001b[0m\u001b[1;33m]\u001b[0m\u001b[1;33m\u001b[0m\u001b[1;33m\u001b[0m\u001b[0m\n",
      "\u001b[1;31mTypeError\u001b[0m: list indices must be integers or slices, not str"
     ]
    }
   ],
   "source": [
    "count = 1\n",
    "\n",
    "for file in recombinants:\n",
    "    print(\"# Exploring:\", file)\n",
    "    \n",
    "    # Set file endings\n",
    "    FEL_JSON = file + \".FEL.json\"\n",
    "    BUSTEDS_JSON = file + \".BUSTEDS.json\"\n",
    "    MEME_JSON = file + \".MEME.json\"\n",
    "    FUBAR_JSON = file + \".FUBAR.json\"\n",
    "    BGM_JSON = file + \".BGM.json\"\n",
    "    aBSREL_JSON = file + \".aBSREL.json\"\n",
    "    RELAX_JSON = file + \".RELAX.json\"\n",
    "    CFEL_JSON = file + \".CFEL.json\"\n",
    "    \n",
    "    # Get file basename\n",
    "    basename = os.path.basename(file)\n",
    "    \n",
    "    # BUSTED[S]\n",
    "    BUSTEDS_data = get_JSON(BUSTEDS_JSON)\n",
    "    BUSTEDS_pvalue = BUSTEDS_data[\"test results\"][\"p-value\"]\n",
    "    \n",
    "    # FEL\n",
    "    FEL_data = get_JSON(FEL_JSON)\n",
    "    df = pd.DataFrame(FEL_data[\"MLE\"][\"content\"][\"0\"], columns=[x[0] for x in FEL_data[\"MLE\"][\"headers\"]], dtype = float)\n",
    "    df_results = df[df[\"p-value\"] <= pvalueThreshold]\n",
    "    positive_sites = df_results[df_results[\"dN/dS MLE\"] > 1.0]\n",
    "    negative_sites = df_results[df_results[\"dN/dS MLE\"] < 1.0]\n",
    "    N = FEL_data[\"input\"][\"number of sites\"]\n",
    "    S = FEL_data[\"input\"][\"number of sequences\"]\n",
    "    \n",
    "    # MEME\n",
    "    MEME_data = get_JSON(MEME_JSON)\n",
    "    df_M = pd.DataFrame(MEME_data[\"MLE\"][\"content\"][\"0\"], columns=[x[0] for x in MEME_data[\"MLE\"][\"headers\"]], dtype = float)\n",
    "    df_results = df_M[df_M[\"p-value\"] <= pvalueThreshold]\n",
    "    MEME_results = df_results.shape[0]\n",
    "    \n",
    "    # FUBAR results\n",
    "    FUBAR_positive, FUBAR_negative = get_FUBAR_results(FUBAR_JSON)\n",
    "    \n",
    "    # BGM results\n",
    "    print (\"# Processing:\", BGM_JSON)\n",
    "    BGM_results = get_BGM_results(BGM_JSON)\n",
    "    \n",
    "    # aBSREL results\n",
    "    aBSREL_results = get_aBSREL_results(aBSREL_JSON)\n",
    "    \n",
    "    # RELAX results\n",
    "    RELAX_results = get_RELAX_results(RELAX_JSON)\n",
    "    \n",
    "    # CFEL results\n",
    "    CFEL_results = get_CFEL_results(CFEL_JSON)\n",
    "    \n",
    "    # MG94, SLAC\n",
    "    extensions = [\".MG94.json\", \".SLAC.json\", \".PRIME.json\", \".FMM.json\"]\n",
    "    for ext in extensions:\n",
    "        JSON = file + ext\n",
    "        if ext == \".MG94.json\":\n",
    "            mg94_results = get_FitMG94_results(JSON)\n",
    "        elif ext == \".SLAC.json\":\n",
    "            #print(\"# Processing SLAC results:\", JSON)\n",
    "            SLAC_positive, SLAC_negative = get_SLAC_results(JSON)\n",
    "        elif ext == \".PRIME.json\":\n",
    "            PRIME_results = get_PRIME_results(JSON)\n",
    "        elif ext == \".FMM.json\":\n",
    "            TH_pval, DH_pval = get_FMM_results(JSON)\n",
    "        else:\n",
    "            pass\n",
    "        #end if\n",
    "    #end for\n",
    "    \n",
    "    \n",
    "    # Report --------------------------------------------------------\n",
    "    results_dict[count] = {\n",
    "        \"Recombinant\": basename.replace(\".codon.fas\", \"\"),\n",
    "        \"Seqs\": int(S),\n",
    "        \"Sites\": int(N),\n",
    "        \"FitMG94\": mg94_results,\n",
    "        \"BUSTED[S]\": BUSTEDS_pvalue,\n",
    "        \"FEL[+]\": positive_sites.shape[0],\n",
    "        \"FEL[-]\": negative_sites.shape[0],\n",
    "        #\"FUBAR[+]\": FUBAR_positive,\n",
    "        #\"FUBAR[-]\": FUBAR_negative,\n",
    "        #\"SLAC[+]\": SLAC_positive,\n",
    "        #\"SLAC[-]\": SLAC_negative,\n",
    "        \"MEME\": MEME_results,\n",
    "        #\"BGM\": BGM_results,\n",
    "        \"aBSREL\": aBSREL_results,\n",
    "        \"FMM[TH]\": TH_pval,\n",
    "        \"FMM[DH]\": DH_pval,\n",
    "        \"RELAX\": RELAX_results,\n",
    "        \"CFEL\": CFEL_results\n",
    "    }\n",
    "    \n",
    "    count += 1\n",
    "#end for\n",
    "    "
   ]
  },
  {
   "cell_type": "markdown",
   "id": "64463b06",
   "metadata": {},
   "source": [
    "## Show table"
   ]
  },
  {
   "cell_type": "code",
   "execution_count": 9,
   "id": "0cb2969e",
   "metadata": {},
   "outputs": [
    {
     "data": {
      "text/html": [
       "<div>\n",
       "<style scoped>\n",
       "    .dataframe tbody tr th:only-of-type {\n",
       "        vertical-align: middle;\n",
       "    }\n",
       "\n",
       "    .dataframe tbody tr th {\n",
       "        vertical-align: top;\n",
       "    }\n",
       "\n",
       "    .dataframe thead th {\n",
       "        text-align: right;\n",
       "    }\n",
       "</style>\n",
       "<table border=\"1\" class=\"dataframe\">\n",
       "  <thead>\n",
       "    <tr style=\"text-align: right;\">\n",
       "      <th></th>\n",
       "    </tr>\n",
       "  </thead>\n",
       "  <tbody>\n",
       "  </tbody>\n",
       "</table>\n",
       "</div>"
      ],
      "text/plain": [
       "Empty DataFrame\n",
       "Columns: []\n",
       "Index: []"
      ]
     },
     "execution_count": 9,
     "metadata": {},
     "output_type": "execute_result"
    }
   ],
   "source": [
    "df = pd.DataFrame(results_dict)\n",
    "##df.T.sort_values(by=\"Recombinant\", ascending=True, inplace=True)\n",
    "#df.T\n",
    "\n",
    "#df2 = df.T\n",
    "#df2.sort_values(by=\"Sites\", ascending=False, inplace=True)\n",
    "#df2 = df2.reset_index()\n",
    "#df2.drop('index', axis=1, inplace=True)\n",
    "##df2.index += 1\n",
    "#df2\n",
    "df"
   ]
  },
  {
   "cell_type": "code",
   "execution_count": 6,
   "id": "fixed-receipt",
   "metadata": {},
   "outputs": [],
   "source": [
    "df2.to_csv(\"AOC-REM2-ExecutiveSummary.csv\")"
   ]
  },
  {
   "cell_type": "markdown",
   "id": "b8ab60b9",
   "metadata": {},
   "source": [
    "We report omega value for each recombination free segment as the FitMG94 value, LRT p-values are reported for BUSTED[S], FMM[TH], FMM[DH], and RELAX. PRIME reports the sites with overall p-value <= 0.1. aBSREL reports branches under selection. The rest of the columns report the number of sites under selection. "
   ]
  },
  {
   "cell_type": "code",
   "execution_count": 7,
   "id": "4872f467",
   "metadata": {},
   "outputs": [
    {
     "name": "stdout",
     "output_type": "stream",
     "text": [
      "Table 1. FitMG94 LRT p-value, BUSTED[S] LRT p-value, FEL[+] number of sites, FEL[-] number of sites, MEME number of sites, BGM number of coevolving pairs, aBSREL number of branches, FMM (3H vs 1H) LRT p-value, RELAX p-value, CFEL LRT p-value\n"
     ]
    }
   ],
   "source": [
    "\n",
    "print(\"\"\"Table 1. FitMG94 LRT p-value, BUSTED[S] LRT p-value, FEL[+] number of sites, FEL[-] number of sites, MEME number of sites, BGM number of coevolving pairs, aBSREL number of branches, FMM (3H vs 1H) LRT p-value, RELAX p-value, CFEL LRT p-value\"\"\")"
   ]
  },
  {
   "cell_type": "markdown",
   "id": "067abbf2",
   "metadata": {},
   "source": [
    "## END OF FILE"
   ]
  },
  {
   "cell_type": "code",
   "execution_count": null,
   "id": "dried-granny",
   "metadata": {},
   "outputs": [],
   "source": []
  }
 ],
 "metadata": {
  "kernelspec": {
   "display_name": "Python 3",
   "language": "python",
   "name": "python3"
  },
  "language_info": {
   "codemirror_mode": {
    "name": "ipython",
    "version": 3
   },
   "file_extension": ".py",
   "mimetype": "text/x-python",
   "name": "python",
   "nbconvert_exporter": "python",
   "pygments_lexer": "ipython3",
   "version": "3.9.1"
  }
 },
 "nbformat": 4,
 "nbformat_minor": 5
}
