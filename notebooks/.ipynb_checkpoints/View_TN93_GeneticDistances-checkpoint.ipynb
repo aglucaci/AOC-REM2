{
 "cells": [
  {
   "cell_type": "code",
   "execution_count": 50,
   "id": "fifth-jenny",
   "metadata": {},
   "outputs": [],
   "source": [
    "import scipy.stats as st\n",
    "from matplotlib.pyplot import figure\n",
    "import sys, os\n",
    "import matplotlib.pyplot as plt\n",
    "import pandas as pd"
   ]
  },
  {
   "cell_type": "code",
   "execution_count": 51,
   "id": "earned-plant",
   "metadata": {},
   "outputs": [],
   "source": [
    "TN93_DST_FILE = os.path.join(\"..\", \n",
    "                         \"results\", \n",
    "                         \"mammalian_REM2\", \n",
    "                         \"mammalian_REM2_codons.SA.FilterOutliers.fasta.dst\")"
   ]
  },
  {
   "cell_type": "code",
   "execution_count": 52,
   "id": "hydraulic-ready",
   "metadata": {},
   "outputs": [
    {
     "data": {
      "text/html": [
       "<div>\n",
       "<style scoped>\n",
       "    .dataframe tbody tr th:only-of-type {\n",
       "        vertical-align: middle;\n",
       "    }\n",
       "\n",
       "    .dataframe tbody tr th {\n",
       "        vertical-align: top;\n",
       "    }\n",
       "\n",
       "    .dataframe thead th {\n",
       "        text-align: right;\n",
       "    }\n",
       "</style>\n",
       "<table border=\"1\" class=\"dataframe\">\n",
       "  <thead>\n",
       "    <tr style=\"text-align: right;\">\n",
       "      <th></th>\n",
       "      <th>ID1</th>\n",
       "      <th>ID2</th>\n",
       "      <th>Distance</th>\n",
       "    </tr>\n",
       "  </thead>\n",
       "  <tbody>\n",
       "    <tr>\n",
       "      <th>0</th>\n",
       "      <td>NM_080726_3_Mus_musculus_rad_and_gem_related_G...</td>\n",
       "      <td>XM_009427474_3_PREDICTED_Pan_troglodytes_RRAD_...</td>\n",
       "      <td>0.142102</td>\n",
       "    </tr>\n",
       "    <tr>\n",
       "      <th>1</th>\n",
       "      <td>NM_080726_3_Mus_musculus_rad_and_gem_related_G...</td>\n",
       "      <td>NM_001192708_1_Bos_taurus_RRAD_and_GEM_like_GT...</td>\n",
       "      <td>0.138882</td>\n",
       "    </tr>\n",
       "    <tr>\n",
       "      <th>2</th>\n",
       "      <td>NM_080726_3_Mus_musculus_rad_and_gem_related_G...</td>\n",
       "      <td>NM_022685_2_Rattus_norvegicus_RRAD_and_GEM_lik...</td>\n",
       "      <td>0.057631</td>\n",
       "    </tr>\n",
       "    <tr>\n",
       "      <th>3</th>\n",
       "      <td>NM_080726_3_Mus_musculus_rad_and_gem_related_G...</td>\n",
       "      <td>NM_173527_3_Homo_sapiens_RRAD_and_GEM_like_GTP...</td>\n",
       "      <td>0.139246</td>\n",
       "    </tr>\n",
       "    <tr>\n",
       "      <th>4</th>\n",
       "      <td>NM_080726_3_Mus_musculus_rad_and_gem_related_G...</td>\n",
       "      <td>XM_005623217_4_PREDICTED_Canis_lupus_familiari...</td>\n",
       "      <td>0.155967</td>\n",
       "    </tr>\n",
       "    <tr>\n",
       "      <th>...</th>\n",
       "      <td>...</td>\n",
       "      <td>...</td>\n",
       "      <td>...</td>\n",
       "    </tr>\n",
       "    <tr>\n",
       "      <th>15220</th>\n",
       "      <td>XM_051143407_1_PREDICTED_Acomys_russatus_RRAD_...</td>\n",
       "      <td>XM_051980438_1_PREDICTED_Antechinus_flavipes_R...</td>\n",
       "      <td>0.300198</td>\n",
       "    </tr>\n",
       "    <tr>\n",
       "      <th>15221</th>\n",
       "      <td>XM_051143407_1_PREDICTED_Acomys_russatus_RRAD_...</td>\n",
       "      <td>XM_052190525_1_PREDICTED_Apodemus_sylvaticus_R...</td>\n",
       "      <td>0.096727</td>\n",
       "    </tr>\n",
       "    <tr>\n",
       "      <th>15222</th>\n",
       "      <td>XM_051195738_1_PREDICTED_Phodopus_roborovskii_...</td>\n",
       "      <td>XM_051980438_1_PREDICTED_Antechinus_flavipes_R...</td>\n",
       "      <td>0.293048</td>\n",
       "    </tr>\n",
       "    <tr>\n",
       "      <th>15223</th>\n",
       "      <td>XM_051195738_1_PREDICTED_Phodopus_roborovskii_...</td>\n",
       "      <td>XM_052190525_1_PREDICTED_Apodemus_sylvaticus_R...</td>\n",
       "      <td>0.086938</td>\n",
       "    </tr>\n",
       "    <tr>\n",
       "      <th>15224</th>\n",
       "      <td>XM_051980438_1_PREDICTED_Antechinus_flavipes_R...</td>\n",
       "      <td>XM_052190525_1_PREDICTED_Apodemus_sylvaticus_R...</td>\n",
       "      <td>0.298637</td>\n",
       "    </tr>\n",
       "  </tbody>\n",
       "</table>\n",
       "<p>15225 rows × 3 columns</p>\n",
       "</div>"
      ],
      "text/plain": [
       "                                                     ID1  \\\n",
       "0      NM_080726_3_Mus_musculus_rad_and_gem_related_G...   \n",
       "1      NM_080726_3_Mus_musculus_rad_and_gem_related_G...   \n",
       "2      NM_080726_3_Mus_musculus_rad_and_gem_related_G...   \n",
       "3      NM_080726_3_Mus_musculus_rad_and_gem_related_G...   \n",
       "4      NM_080726_3_Mus_musculus_rad_and_gem_related_G...   \n",
       "...                                                  ...   \n",
       "15220  XM_051143407_1_PREDICTED_Acomys_russatus_RRAD_...   \n",
       "15221  XM_051143407_1_PREDICTED_Acomys_russatus_RRAD_...   \n",
       "15222  XM_051195738_1_PREDICTED_Phodopus_roborovskii_...   \n",
       "15223  XM_051195738_1_PREDICTED_Phodopus_roborovskii_...   \n",
       "15224  XM_051980438_1_PREDICTED_Antechinus_flavipes_R...   \n",
       "\n",
       "                                                     ID2  Distance  \n",
       "0      XM_009427474_3_PREDICTED_Pan_troglodytes_RRAD_...  0.142102  \n",
       "1      NM_001192708_1_Bos_taurus_RRAD_and_GEM_like_GT...  0.138882  \n",
       "2      NM_022685_2_Rattus_norvegicus_RRAD_and_GEM_lik...  0.057631  \n",
       "3      NM_173527_3_Homo_sapiens_RRAD_and_GEM_like_GTP...  0.139246  \n",
       "4      XM_005623217_4_PREDICTED_Canis_lupus_familiari...  0.155967  \n",
       "...                                                  ...       ...  \n",
       "15220  XM_051980438_1_PREDICTED_Antechinus_flavipes_R...  0.300198  \n",
       "15221  XM_052190525_1_PREDICTED_Apodemus_sylvaticus_R...  0.096727  \n",
       "15222  XM_051980438_1_PREDICTED_Antechinus_flavipes_R...  0.293048  \n",
       "15223  XM_052190525_1_PREDICTED_Apodemus_sylvaticus_R...  0.086938  \n",
       "15224  XM_052190525_1_PREDICTED_Apodemus_sylvaticus_R...  0.298637  \n",
       "\n",
       "[15225 rows x 3 columns]"
      ]
     },
     "execution_count": 52,
     "metadata": {},
     "output_type": "execute_result"
    }
   ],
   "source": [
    "df = pd.read_csv(TN93_DST_FILE)\n",
    "df"
   ]
  },
  {
   "cell_type": "code",
   "execution_count": 53,
   "id": "involved-hearing",
   "metadata": {},
   "outputs": [
    {
     "data": {
      "image/png": "[encoded data removed]",
      "text/plain": [
       "<Figure size 1000x600 with 1 Axes>"
      ]
     },
     "metadata": {
      "needs_background": "light"
     },
     "output_type": "display_data"
    }
   ],
   "source": [
    "hist = df.hist(bins=100)"
   ]
  },
  {
   "cell_type": "code",
   "execution_count": 54,
   "id": "brave-decision",
   "metadata": {},
   "outputs": [
    {
     "data": {
      "text/plain": [
       "count    15225.000000\n",
       "mean         0.135262\n",
       "std          0.070079\n",
       "min          0.000000\n",
       "25%          0.093070\n",
       "50%          0.123398\n",
       "75%          0.150708\n",
       "max          0.566704\n",
       "Name: Distance, dtype: float64"
      ]
     },
     "execution_count": 54,
     "metadata": {},
     "output_type": "execute_result"
    }
   ],
   "source": [
    "df[\"Distance\"].describe()"
   ]
  },
  {
   "cell_type": "code",
   "execution_count": 55,
   "id": "foster-nutrition",
   "metadata": {},
   "outputs": [],
   "source": [
    "def describe_helper(series):\n",
    "    splits = str(series.describe()).split()\n",
    "    keys, values = \"\", \"\"\n",
    "    for i in range(0, len(splits), 2):\n",
    "        keys += \"{:8}\\n\".format(splits[i])\n",
    "        values += \"{:>8}\\n\".format(splits[i+1])\n",
    "    return keys, values"
   ]
  },
  {
   "cell_type": "code",
   "execution_count": 56,
   "id": "prerequisite-commodity",
   "metadata": {},
   "outputs": [
    {
     "data": {
      "image/png": "[encoded data removed]",
      "text/plain": [
       "<Figure size 1000x600 with 1 Axes>"
      ]
     },
     "metadata": {
      "needs_background": "light"
     },
     "output_type": "display_data"
    }
   ],
   "source": [
    "plt.hist(df[\"Distance\"], bins=100)\n",
    "plt.figtext(0.92, 0.5, str(df[\"Distance\"].describe()))\n",
    "#plt.figtext(1.05, .49, describe_helper(df[\"Distance\"])[1], {'multialignment':'right'})\n",
    "plt.show()"
   ]
  },
  {
   "cell_type": "code",
   "execution_count": null,
   "id": "bearing-questionnaire",
   "metadata": {},
   "outputs": [],
   "source": []
  }
 ],
 "metadata": {
  "kernelspec": {
   "display_name": "Python 3",
   "language": "python",
   "name": "python3"
  },
  "language_info": {
   "codemirror_mode": {
    "name": "ipython",
    "version": 3
   },
   "file_extension": ".py",
   "mimetype": "text/x-python",
   "name": "python",
   "nbconvert_exporter": "python",
   "pygments_lexer": "ipython3",
   "version": "3.9.1"
  }
 },
 "nbformat": 4,
 "nbformat_minor": 5
}
