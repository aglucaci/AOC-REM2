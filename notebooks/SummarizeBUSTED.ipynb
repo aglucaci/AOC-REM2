{
 "cells": [
  {
   "cell_type": "markdown",
   "id": "color-portland",
   "metadata": {},
   "source": [
    "# Imports"
   ]
  },
  {
   "cell_type": "code",
   "execution_count": 1,
   "id": "checked-newspaper",
   "metadata": {},
   "outputs": [],
   "source": [
    "import pandas as pd\n",
    "import numpy as np\n",
    "import os\n",
    "import json\n",
    "import altair as alt\n",
    "import numpy as np"
   ]
  },
  {
   "cell_type": "markdown",
   "id": "hidden-equipment",
   "metadata": {},
   "source": [
    "# Declares"
   ]
  },
  {
   "cell_type": "code",
   "execution_count": 5,
   "id": "ethical-doubt",
   "metadata": {},
   "outputs": [],
   "source": [
    "JSON_FILE = os.path.join(\"..\", \n",
    "                         \"results\", \n",
    "                         \"mammalian_REM2\", \n",
    "                         \"mammalian_REM2_codons.SA.FilterOutliers.fasta.BUSTEDS.json\")\n",
    "\n",
    "MH_JSON_FILE = os.path.join(\"..\", \n",
    "                            \"results\", \n",
    "                            \"mammalian_REM2\", \n",
    "                            \"mammalian_REM2_codons.SA.FilterOutliers.fasta.BUSTEDS+MH.json\")\n",
    "\n",
    "pvalueThreshold = 0.05"
   ]
  },
  {
   "cell_type": "markdown",
   "id": "elementary-saturday",
   "metadata": {},
   "source": [
    "# Helper functions"
   ]
  },
  {
   "cell_type": "code",
   "execution_count": 6,
   "id": "suspected-independence",
   "metadata": {},
   "outputs": [],
   "source": [
    "def getBUSTEDS_ER(json_file):\n",
    "    with open(json_file, \"r\") as in_d:\n",
    "        json_data = json.load(in_d)\n",
    "    return json_data[\"Evidence Ratios\"]\n",
    "#end method\n",
    "\n",
    "def getBUSTEDS_TestResults(json_file):\n",
    "    with open(json_file, \"r\") as in_d:\n",
    "        json_data = json.load(in_d)\n",
    "    return json_data[\"test results\"]\n",
    "#end method\n",
    "\n",
    "def getBUSTEDS_Fits(json_file):\n",
    "    with open(json_file, \"r\") as in_d:\n",
    "        json_data = json.load(in_d)\n",
    "    return json_data[\"fits\"]\n",
    "#end method"
   ]
  },
  {
   "cell_type": "markdown",
   "id": "0affbb1e",
   "metadata": {},
   "source": [
    "## ER Plots\n"
   ]
  },
  {
   "cell_type": "code",
   "execution_count": 7,
   "id": "enhanced-concrete",
   "metadata": {},
   "outputs": [
    {
     "data": {
      "text/plain": [
       "'\\ndata      = getBUSTEDS_ER(JSON_FILE)\\nnum_sites =  len(data[\"constrained\"][0])\\nres = [x+1 for x in range(num_sites)]\\ndata_tuples = list(zip(res,data[\"constrained\"][0]))\\ndf = pd.DataFrame(data)\\ndf.T\\n\\n\\nsource = df\\n\\nline = alt.Chart(source).mark_line().encode(\\n    x=\\'Site\\',\\n    y=\\'2ln(ER)\\', \\n).properties(\\n    width=800,\\n    height=600)\\n\\nline\\n\\n'"
      ]
     },
     "execution_count": 7,
     "metadata": {},
     "output_type": "execute_result"
    }
   ],
   "source": [
    "\"\"\"\n",
    "data      = getBUSTEDS_ER(JSON_FILE)\n",
    "num_sites =  len(data[\"constrained\"][0])\n",
    "res = [x+1 for x in range(num_sites)]\n",
    "data_tuples = list(zip(res,data[\"constrained\"][0]))\n",
    "df = pd.DataFrame(data)\n",
    "df.T\n",
    "\n",
    "\n",
    "source = df\n",
    "\n",
    "line = alt.Chart(source).mark_line().encode(\n",
    "    x='Site',\n",
    "    y='2ln(ER)', \n",
    ").properties(\n",
    "    width=800,\n",
    "    height=600)\n",
    "\n",
    "line\n",
    "\n",
    "\"\"\""
   ]
  },
  {
   "cell_type": "markdown",
   "id": "d2a3d6d7",
   "metadata": {},
   "source": [
    "## Fits plots"
   ]
  },
  {
   "cell_type": "code",
   "execution_count": 8,
   "id": "3a34952d",
   "metadata": {},
   "outputs": [
    {
     "data": {
      "text/plain": [
       "'\\n# Unconstrained model\\ndata   = getBUSTEDS_Fits(JSON_FILE)\\ndf_Unc = pd.DataFrame.from_dict(data[\"Unconstrained model\"][\"Rate Distributions\"][\"Test\"], orient=\\'index\\')\\n\\nsource = df_Unc\\n\\nline = alt.Chart(source).mark_bar().encode(\\n    x=\\'sum(proportion)\\',\\n    y=\\'proportion\\',\\n    color=alt.Color(\\'omega\\', scale=alt.Scale(scheme=\\'reds\\', reverse=False))\\n).properties(\\n    width=500,\\n    height=400)\\n\\nline\\n'"
      ]
     },
     "execution_count": 8,
     "metadata": {},
     "output_type": "execute_result"
    }
   ],
   "source": [
    "\"\"\"\n",
    "# Unconstrained model\n",
    "data   = getBUSTEDS_Fits(JSON_FILE)\n",
    "df_Unc = pd.DataFrame.from_dict(data[\"Unconstrained model\"][\"Rate Distributions\"][\"Test\"], orient='index')\n",
    "\n",
    "source = df_Unc\n",
    "\n",
    "line = alt.Chart(source).mark_bar().encode(\n",
    "    x='sum(proportion)',\n",
    "    y='proportion',\n",
    "    color=alt.Color('omega', scale=alt.Scale(scheme='reds', reverse=False))\n",
    ").properties(\n",
    "    width=500,\n",
    "    height=400)\n",
    "\n",
    "line\n",
    "\"\"\""
   ]
  },
  {
   "cell_type": "code",
   "execution_count": 16,
   "id": "pleased-graduate",
   "metadata": {},
   "outputs": [
    {
     "data": {
      "text/html": [
       "<div>\n",
       "<style scoped>\n",
       "    .dataframe tbody tr th:only-of-type {\n",
       "        vertical-align: middle;\n",
       "    }\n",
       "\n",
       "    .dataframe tbody tr th {\n",
       "        vertical-align: top;\n",
       "    }\n",
       "\n",
       "    .dataframe thead th {\n",
       "        text-align: right;\n",
       "    }\n",
       "</style>\n",
       "<table border=\"1\" class=\"dataframe\">\n",
       "  <thead>\n",
       "    <tr style=\"text-align: right;\">\n",
       "      <th></th>\n",
       "      <th>omega</th>\n",
       "      <th>proportion</th>\n",
       "    </tr>\n",
       "  </thead>\n",
       "  <tbody>\n",
       "    <tr>\n",
       "      <th>0</th>\n",
       "      <td>0.077807</td>\n",
       "      <td>89.1885</td>\n",
       "    </tr>\n",
       "    <tr>\n",
       "      <th>1</th>\n",
       "      <td>0.576892</td>\n",
       "      <td>10.7550</td>\n",
       "    </tr>\n",
       "    <tr>\n",
       "      <th>2</th>\n",
       "      <td>196.898559</td>\n",
       "      <td>0.0565</td>\n",
       "    </tr>\n",
       "  </tbody>\n",
       "</table>\n",
       "</div>"
      ],
      "text/plain": [
       "        omega  proportion\n",
       "0    0.077807     89.1885\n",
       "1    0.576892     10.7550\n",
       "2  196.898559      0.0565"
      ]
     },
     "execution_count": 16,
     "metadata": {},
     "output_type": "execute_result"
    }
   ],
   "source": [
    "data   = getBUSTEDS_Fits(JSON_FILE)\n",
    "\n",
    "df_Unc = pd.DataFrame.from_dict(data[\"Unconstrained model\"][\"Rate Distributions\"][\"Test\"], orient='index')\n",
    "df_Unc[\"proportion\"] = round(df_Unc[\"proportion\"] * 100, 4)\n",
    "\n",
    "if df_Unc[\"omega\"][2] > 10000: \n",
    "    df_Unc[\"omega\"][2] = 10000\n",
    "    \n",
    "df_Unc"
   ]
  },
  {
   "cell_type": "code",
   "execution_count": 17,
   "id": "formed-decision",
   "metadata": {},
   "outputs": [
    {
     "data": {
      "text/html": [
       "<div>\n",
       "<style scoped>\n",
       "    .dataframe tbody tr th:only-of-type {\n",
       "        vertical-align: middle;\n",
       "    }\n",
       "\n",
       "    .dataframe tbody tr th {\n",
       "        vertical-align: top;\n",
       "    }\n",
       "\n",
       "    .dataframe thead th {\n",
       "        text-align: right;\n",
       "    }\n",
       "</style>\n",
       "<table border=\"1\" class=\"dataframe\">\n",
       "  <thead>\n",
       "    <tr style=\"text-align: right;\">\n",
       "      <th></th>\n",
       "      <th>omega</th>\n",
       "      <th>proportion</th>\n",
       "    </tr>\n",
       "  </thead>\n",
       "  <tbody>\n",
       "    <tr>\n",
       "      <th>0</th>\n",
       "      <td>0.120585</td>\n",
       "      <td>99.3374</td>\n",
       "    </tr>\n",
       "    <tr>\n",
       "      <th>1</th>\n",
       "      <td>1.000000</td>\n",
       "      <td>0.5929</td>\n",
       "    </tr>\n",
       "    <tr>\n",
       "      <th>2</th>\n",
       "      <td>48.877409</td>\n",
       "      <td>0.0698</td>\n",
       "    </tr>\n",
       "  </tbody>\n",
       "</table>\n",
       "</div>"
      ],
      "text/plain": [
       "       omega  proportion\n",
       "0   0.120585     99.3374\n",
       "1   1.000000      0.5929\n",
       "2  48.877409      0.0698"
      ]
     },
     "execution_count": 17,
     "metadata": {},
     "output_type": "execute_result"
    }
   ],
   "source": [
    "data   = getBUSTEDS_Fits(MH_JSON_FILE)\n",
    "\n",
    "df_Unc = pd.DataFrame.from_dict(data[\"Unconstrained model\"][\"Rate Distributions\"][\"Test\"], orient='index')\n",
    "df_Unc[\"proportion\"] = round(df_Unc[\"proportion\"] * 100, 4)\n",
    "\n",
    "if df_Unc[\"omega\"][2] > 10000: \n",
    "    df_Unc[\"omega\"][2] = 10000\n",
    "    \n",
    "df_Unc"
   ]
  },
  {
   "cell_type": "code",
   "execution_count": 19,
   "id": "settled-michael",
   "metadata": {},
   "outputs": [
    {
     "name": "stdout",
     "output_type": "stream",
     "text": [
      "38.45304497265218\n"
     ]
    }
   ],
   "source": [
    "\n",
    "#print(df_Unc[\"omega\"][2])\n",
    "\n",
    "#if df_Unc[\"omega\"][2] > 10000: \n",
    "#    df_Unc[\"omega\"][2] = 10000"
   ]
  },
  {
   "cell_type": "code",
   "execution_count": 21,
   "id": "31d1a908",
   "metadata": {},
   "outputs": [
    {
     "data": {
      "text/html": [
       "\n",
       "<div id=\"altair-viz-a5ff6502547b459b97cf556535d58628\"></div>\n",
       "<script type=\"text/javascript\">\n",
       "  (function(spec, embedOpt){\n",
       "    let outputDiv = document.currentScript.previousElementSibling;\n",
       "    if (outputDiv.id !== \"altair-viz-a5ff6502547b459b97cf556535d58628\") {\n",
       "      outputDiv = document.getElementById(\"altair-viz-a5ff6502547b459b97cf556535d58628\");\n",
       "    }\n",
       "    const paths = {\n",
       "      \"vega\": \"https://cdn.jsdelivr.net/npm//vega@5?noext\",\n",
       "      \"vega-lib\": \"https://cdn.jsdelivr.net/npm//vega-lib?noext\",\n",
       "      \"vega-lite\": \"https://cdn.jsdelivr.net/npm//vega-lite@4.17.0?noext\",\n",
       "      \"vega-embed\": \"https://cdn.jsdelivr.net/npm//vega-embed@6?noext\",\n",
       "    };\n",
       "\n",
       "    function loadScript(lib) {\n",
       "      return new Promise(function(resolve, reject) {\n",
       "        var s = document.createElement('script');\n",
       "        s.src = paths[lib];\n",
       "        s.async = true;\n",
       "        s.onload = () => resolve(paths[lib]);\n",
       "        s.onerror = () => reject(`Error loading script: ${paths[lib]}`);\n",
       "        document.getElementsByTagName(\"head\")[0].appendChild(s);\n",
       "      });\n",
       "    }\n",
       "\n",
       "    function showError(err) {\n",
       "      outputDiv.innerHTML = `<div class=\"error\" style=\"color:red;\">${err}</div>`;\n",
       "      throw err;\n",
       "    }\n",
       "\n",
       "    function displayChart(vegaEmbed) {\n",
       "      vegaEmbed(outputDiv, spec, embedOpt)\n",
       "        .catch(err => showError(`Javascript Error: ${err.message}<br>This usually means there's a typo in your chart specification. See the javascript console for the full traceback.`));\n",
       "    }\n",
       "\n",
       "    if(typeof define === \"function\" && define.amd) {\n",
       "      requirejs.config({paths});\n",
       "      require([\"vega-embed\"], displayChart, err => showError(`Error loading script: ${err.message}`));\n",
       "    } else if (typeof vegaEmbed === \"function\") {\n",
       "      displayChart(vegaEmbed);\n",
       "    } else {\n",
       "      loadScript(\"vega\")\n",
       "        .then(() => loadScript(\"vega-lite\"))\n",
       "        .then(() => loadScript(\"vega-embed\"))\n",
       "        .catch(showError)\n",
       "        .then(() => displayChart(vegaEmbed));\n",
       "    }\n",
       "  })({\"config\": {\"view\": {\"continuousWidth\": 400, \"continuousHeight\": 300}}, \"layer\": [{\"mark\": \"bar\", \"encoding\": {\"color\": {\"field\": \"omega\", \"scale\": {\"reverse\": false, \"scheme\": \"reds\"}, \"type\": \"quantitative\"}, \"x\": {\"field\": \"omega\", \"type\": \"quantitative\"}, \"y\": {\"field\": \"proportion\", \"type\": \"quantitative\"}}, \"height\": 400, \"width\": 400}, {\"mark\": {\"type\": \"text\", \"align\": \"left\", \"baseline\": \"middle\", \"color\": \"black\", \"dx\": 3}, \"encoding\": {\"color\": {\"field\": \"omega\", \"scale\": {\"reverse\": false, \"scheme\": \"reds\"}, \"type\": \"quantitative\"}, \"text\": {\"field\": \"proportion\", \"type\": \"quantitative\"}, \"x\": {\"field\": \"omega\", \"type\": \"quantitative\"}, \"y\": {\"field\": \"proportion\", \"type\": \"quantitative\"}}, \"height\": 400, \"width\": 400}], \"data\": {\"name\": \"data-ec7a88a1c7cc23ec3e9dfbdca5019658\"}, \"$schema\": \"https://vega.github.io/schema/vega-lite/v4.17.0.json\", \"datasets\": {\"data-ec7a88a1c7cc23ec3e9dfbdca5019658\": [{\"omega\": 0.1205852134638213, \"proportion\": 99.3374}, {\"omega\": 1.0, \"proportion\": 0.5929}, {\"omega\": 48.87740886791199, \"proportion\": 0.0698}]}}, {\"mode\": \"vega-lite\"});\n",
       "</script>"
      ],
      "text/plain": [
       "alt.LayerChart(...)"
      ]
     },
     "execution_count": 21,
     "metadata": {},
     "output_type": "execute_result"
    }
   ],
   "source": [
    "# Unconstrained model\n",
    "\n",
    "#data   = getBUSTEDS_Fits(JSON_FILE)\n",
    "#df_Unc = pd.DataFrame.from_dict(data[\"Unconstrained model\"][\"Rate Distributions\"][\"Test\"], orient='index')\n",
    "\n",
    "source = df_Unc\n",
    "\n",
    "bar = alt.Chart(source).mark_bar().encode(\n",
    "    x='omega',\n",
    "    y='proportion',\n",
    "    color=alt.Color('omega', scale=alt.Scale(scheme='reds', reverse=False))\n",
    ").properties(\n",
    "    width=400,\n",
    "    height=400)\n",
    "\n",
    "\n",
    "text = bar.mark_text(\n",
    "    align='left',\n",
    "    baseline='middle',\n",
    "    color='black',\n",
    "    dx=3  # Nudges text to right so it doesn't appear on top of the bar\n",
    ").encode(\n",
    "    text='proportion:Q'\n",
    ")\n",
    "\n",
    "bar + text\n",
    "\n",
    "#bar.save('Figure1_BUSTEDS.png')\n"
   ]
  },
  {
   "cell_type": "markdown",
   "id": "boring-vietnam",
   "metadata": {},
   "source": [
    "# Figure Legend"
   ]
  },
  {
   "cell_type": "code",
   "execution_count": 19,
   "id": "e98d9601",
   "metadata": {},
   "outputs": [
    {
     "name": "stdout",
     "output_type": "stream",
     "text": [
      "BUSTEDS: {'LRT': 63.26890982428449, 'p-value': 9.103828801926284e-15}\n",
      "BUSTEDS+MH: {'LRT': 7.358193027386733, 'p-value': 0.01262288687330809}\n",
      "\n",
      "\n"
     ]
    }
   ],
   "source": [
    "# Figure Legend\n",
    "\n",
    "result = getBUSTEDS_TestResults(JSON_FILE)\n",
    "resultMH = getBUSTEDS_TestResults(MH_JSON_FILE)\n",
    "\n",
    "print(\"BUSTEDS:\", result)\n",
    "print(\"BUSTEDS+MH:\", resultMH)\n",
    "\n",
    "result_response = \"\"\n",
    "msg = \"\"\n",
    "if result[\"p-value\"] <= pvalueThreshold:\n",
    "    result_response = \"found evidence (LRT, p-value ≤ 0.05)\"\n",
    "else:\n",
    "    result_response = \"did NOT find evidence (LRT, p-value > 0.05)\"\n",
    "    msg = \"BUSTEDS analysis \" + result_response + \" of gene-wide episodic diversifying selection in the selected test branches of our phylogeny. \"\n",
    "print(\"\\n\" + msg)"
   ]
  },
  {
   "cell_type": "code",
   "execution_count": null,
   "id": "996f61fe",
   "metadata": {},
   "outputs": [],
   "source": []
  },
  {
   "cell_type": "code",
   "execution_count": null,
   "id": "534db2ba",
   "metadata": {},
   "outputs": [],
   "source": []
  },
  {
   "cell_type": "code",
   "execution_count": null,
   "id": "affiliated-mason",
   "metadata": {},
   "outputs": [],
   "source": []
  }
 ],
 "metadata": {
  "kernelspec": {
   "display_name": "Python 3",
   "language": "python",
   "name": "python3"
  },
  "language_info": {
   "codemirror_mode": {
    "name": "ipython",
    "version": 3
   },
   "file_extension": ".py",
   "mimetype": "text/x-python",
   "name": "python",
   "nbconvert_exporter": "python",
   "pygments_lexer": "ipython3",
   "version": "3.9.1"
  }
 },
 "nbformat": 4,
 "nbformat_minor": 5
}
