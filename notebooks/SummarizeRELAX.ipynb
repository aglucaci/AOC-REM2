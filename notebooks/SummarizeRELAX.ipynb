{
 "cells": [
  {
   "cell_type": "code",
   "execution_count": 33,
   "id": "f3f53827-6ea8-487f-b0cf-f852cc74564c",
   "metadata": {},
   "outputs": [],
   "source": [
    "import pandas as pd\n",
    "import numpy as np\n",
    "import os\n",
    "import json\n",
    "import altair as alt\n",
    "import numpy as np\n",
    "import glob"
   ]
  },
  {
   "cell_type": "code",
   "execution_count": 34,
   "id": "e209071d-ad8b-45a9-a245-9ed0e5fe04e6",
   "metadata": {},
   "outputs": [],
   "source": [
    "RELAX_FILES = [os.path.join(\"/Users/alex/Documents/AOC-REM2\", \"results\", \"mammalian_REM2\", \"mammalian_REM2_codons.SA.fasta.RELAX.json\")]\n",
    "pvalueThreshold = 0.05"
   ]
  },
  {
   "cell_type": "code",
   "execution_count": 37,
   "id": "5e5d9fd6-b14e-4301-afa5-e3d3c7fc6af0",
   "metadata": {},
   "outputs": [],
   "source": [
    "def getRELAX_TR(JSON):\n",
    "    print(\"# Opening:\", JSON)\n",
    "    with open(JSON, \"r\") as in_d:\n",
    "        json_data = json.load(in_d)\n",
    "    return json_data[\"test results\"]\n",
    "#end method\n",
    "\n",
    "def getRELAX_fits(JSON):\n",
    "    with open(JSON, \"r\") as in_d:\n",
    "        json_data = json.load(in_d)\n",
    "    return json_data[\"fits\"]\n",
    "\n",
    "def getRELAX(JSON):\n",
    "    print(\"# Opening:\", JSON)\n",
    "    with open(JSON, \"r\") as in_d:\n",
    "        json_data = json.load(in_d)\n",
    "    return json_data\n",
    "#end method"
   ]
  },
  {
   "cell_type": "code",
   "execution_count": 38,
   "id": "29218861-6632-4d85-be17-3e5d60bcf67c",
   "metadata": {},
   "outputs": [
    {
     "data": {
      "text/plain": [
       "'\\n \"test results\":{\\n   \"LRT\":98.89744400125346,\\n   \"p-value\":0,\\n   \"relaxation or intensification parameter\":{\\n     \"Artiodactyla\":1.35604209998685,\\n     \"Carnivora\":1.315182714197658,\\n     \"Chiroptera\":0.5196171845894485,\\n     \"Eulipotyphla\":0.01853643407134861,\\n     \"Glires\":0.01639513555879648,\\n     \"Perissodactyla\":1.394028437004299,\\n     \"Primates\":1\\n    }\\n  },\\n\\n'"
      ]
     },
     "execution_count": 38,
     "metadata": {},
     "output_type": "execute_result"
    }
   ],
   "source": [
    "\"\"\"\n",
    " \"test results\":{\n",
    "   \"LRT\":98.89744400125346,\n",
    "   \"p-value\":0,\n",
    "   \"relaxation or intensification parameter\":{\n",
    "     \"Artiodactyla\":1.35604209998685,\n",
    "     \"Carnivora\":1.315182714197658,\n",
    "     \"Chiroptera\":0.5196171845894485,\n",
    "     \"Eulipotyphla\":0.01853643407134861,\n",
    "     \"Glires\":0.01639513555879648,\n",
    "     \"Perissodactyla\":1.394028437004299,\n",
    "     \"Primates\":1\n",
    "    }\n",
    "  },\n",
    "\n",
    "\"\"\""
   ]
  },
  {
   "cell_type": "code",
   "execution_count": 39,
   "id": "7015acf0-5730-4dc6-897b-2f949245ed37",
   "metadata": {},
   "outputs": [
    {
     "data": {
      "text/plain": [
       "' \"fits\":{'"
      ]
     },
     "execution_count": 39,
     "metadata": {},
     "output_type": "execute_result"
    }
   ],
   "source": [
    "\"\"\" \"fits\":{\"\"\"\n"
   ]
  },
  {
   "cell_type": "markdown",
   "id": "30826362-5196-49ca-b4ea-89a59a89f039",
   "metadata": {},
   "source": [
    "## Process"
   ]
  },
  {
   "cell_type": "code",
   "execution_count": 57,
   "id": "d8179cea-3dca-4936-b533-a5860a78bf6a",
   "metadata": {},
   "outputs": [
    {
     "name": "stdout",
     "output_type": "stream",
     "text": [
      "# Opening: /Users/alex/Documents/AOC-REM2/results/mammalian_REM2/mammalian_REM2_codons.SA.fasta.RELAX.json\n"
     ]
    }
   ],
   "source": [
    "data = getRELAX(RELAX_FILES[0])\n",
    "test_results = data[\"test results\"]\n",
    "fits = data[\"fits\"]\n",
    "fits_RELAX_partitioned_descriptive = fits['RELAX partitioned descriptive']\n",
    "species = test_results[\"relaxation or intensification parameter\"].keys()"
   ]
  },
  {
   "cell_type": "code",
   "execution_count": 58,
   "id": "bd5c9c9c-d0b6-40e6-9039-4cf5b878cfa0",
   "metadata": {},
   "outputs": [
    {
     "data": {
      "text/plain": [
       "dict_keys(['Artiodactyla', 'Carnivora', 'Chiroptera', 'Eulipotyphla', 'Glires', 'Perissodactyla', 'Primates'])"
      ]
     },
     "execution_count": 58,
     "metadata": {},
     "output_type": "execute_result"
    }
   ],
   "source": [
    "species"
   ]
  },
  {
   "cell_type": "code",
   "execution_count": 46,
   "id": "99225027-e3aa-4fb5-a4ed-a778eff83e06",
   "metadata": {},
   "outputs": [
    {
     "data": {
      "text/plain": [
       "{'LRT': 98.89744400125346,\n",
       " 'p-value': 0,\n",
       " 'relaxation or intensification parameter': {'Artiodactyla': 1.35604209998685,\n",
       "  'Carnivora': 1.315182714197658,\n",
       "  'Chiroptera': 0.5196171845894485,\n",
       "  'Eulipotyphla': 0.01853643407134861,\n",
       "  'Glires': 0.01639513555879648,\n",
       "  'Perissodactyla': 1.394028437004299,\n",
       "  'Primates': 1}}"
      ]
     },
     "execution_count": 46,
     "metadata": {},
     "output_type": "execute_result"
    }
   ],
   "source": [
    "test_results"
   ]
  },
  {
   "cell_type": "code",
   "execution_count": 65,
   "id": "3ccf9d0a-7b5b-4219-9534-dc04592603c0",
   "metadata": {},
   "outputs": [
    {
     "data": {
      "text/plain": [
       "{'AIC-c': 52978.19070123617,\n",
       " 'Log Likelihood': -26098.76933016533,\n",
       " 'Rate Distributions': {'Artiodactyla': {'0': {'omega': 0.01740803078062405,\n",
       "    'proportion': 0.8644814452976759},\n",
       "   '1': {'omega': 0.9985603670630441, 'proportion': 0.1240568830784497},\n",
       "   '2': {'omega': 72.63914743408239, 'proportion': 0.01146167162387444}},\n",
       "  'Carnivora': {'0': {'omega': 0, 'proportion': 0.8790656666907216},\n",
       "   '1': {'omega': 1, 'proportion': 0.1020651564002634},\n",
       "   '2': {'omega': 25.37590401785588, 'proportion': 0.01886917690901496}},\n",
       "  'Chiroptera': {'0': {'omega': 0.0418820049755949,\n",
       "    'proportion': 0.8973608713381517},\n",
       "   '1': {'omega': 1, 'proportion': 0.1017159886228614},\n",
       "   '2': {'omega': 29.31785703613311, 'proportion': 0.0009231400389869436}},\n",
       "  'Eulipotyphla': {'0': {'omega': 0.04747286545496301,\n",
       "    'proportion': 0.9387856777329877},\n",
       "   '1': {'omega': 1, 'proportion': 0.06121432226701229},\n",
       "   '2': {'omega': 9.491133103269702, 'proportion': 0}},\n",
       "  'Glires': {'0': {'omega': 0.09977088271127328,\n",
       "    'proportion': 0.6044535380595913},\n",
       "   '1': {'omega': 0.1158274921529192, 'proportion': 0.3938108732787973},\n",
       "   '2': {'omega': 3.86957758083343, 'proportion': 0.001735588661611368}},\n",
       "  'Perissodactyla': {'0': {'omega': 0.07873104758064099,\n",
       "    'proportion': 0.8684675354685624},\n",
       "   '1': {'omega': 0.999368433118802, 'proportion': 0},\n",
       "   '2': {'omega': 5.154579028370033, 'proportion': 0.1315324645314376}},\n",
       "  'Primates': {'0': {'omega': 0.1168138321784206,\n",
       "    'proportion': 0.9006131359290503},\n",
       "   '1': {'omega': 0.1227863579910532, 'proportion': 0.09076947338807981},\n",
       "   '2': {'omega': 38.1957963541259, 'proportion': 0.008617390682869841}}},\n",
       " 'display order': 5,\n",
       " 'estimated parameters': 389}"
      ]
     },
     "execution_count": 65,
     "metadata": {},
     "output_type": "execute_result"
    }
   ],
   "source": [
    "#fits_RELAX_partitioned_descriptive = fits['RELAX partitioned descriptive']\n",
    "fits_RELAX_partitioned_descriptive"
   ]
  },
  {
   "cell_type": "code",
   "execution_count": 81,
   "id": "1ed0b68a-2515-4fde-a485-5edf653017f6",
   "metadata": {},
   "outputs": [
    {
     "data": {
      "text/plain": [
       "'\\nformatted_results = {}\\ncount = 1\\nfor sp in species:\\n    print(sp)\\n    formatted_results[count] = {\\n        \"Taxa\": sp,\\n        \"K\": test_results[\\'relaxation or intensification parameter\\'][sp],\\n        \"Omega1\": fits_RELAX_partitioned_descriptive[\\'Rate Distributions\\'][sp][\"0\"][\"omega\"],\\n        \"Proportion1\":fits_RELAX_partitioned_descriptive[\\'Rate Distributions\\'][sp][\"0\"][\"proportion\"],\\n        \"Omega2\": fits_RELAX_partitioned_descriptive[\\'Rate Distributions\\'][sp][\"1\"][\"omega\"],\\n        \"Proportion2\":fits_RELAX_partitioned_descriptive[\\'Rate Distributions\\'][sp][\"1\"][\"proportion\"],\\n        \"Omega3\": fits_RELAX_partitioned_descriptive[\\'Rate Distributions\\'][sp][\"2\"][\"omega\"],\\n        \"Proportion3\":fits_RELAX_partitioned_descriptive[\\'Rate Distributions\\'][sp][\"2\"][\"proportion\"]\\n    }\\n    \\n    count += 1\\n#end for\\n'"
      ]
     },
     "execution_count": 81,
     "metadata": {},
     "output_type": "execute_result"
    }
   ],
   "source": [
    "\n",
    "\"\"\"\n",
    "formatted_results = {}\n",
    "count = 1\n",
    "for sp in species:\n",
    "    print(sp)\n",
    "    formatted_results[count] = {\n",
    "        \"Taxa\": sp,\n",
    "        \"K\": test_results['relaxation or intensification parameter'][sp],\n",
    "        \"Omega1\": fits_RELAX_partitioned_descriptive['Rate Distributions'][sp][\"0\"][\"omega\"],\n",
    "        \"Proportion1\":fits_RELAX_partitioned_descriptive['Rate Distributions'][sp][\"0\"][\"proportion\"],\n",
    "        \"Omega2\": fits_RELAX_partitioned_descriptive['Rate Distributions'][sp][\"1\"][\"omega\"],\n",
    "        \"Proportion2\":fits_RELAX_partitioned_descriptive['Rate Distributions'][sp][\"1\"][\"proportion\"],\n",
    "        \"Omega3\": fits_RELAX_partitioned_descriptive['Rate Distributions'][sp][\"2\"][\"omega\"],\n",
    "        \"Proportion3\":fits_RELAX_partitioned_descriptive['Rate Distributions'][sp][\"2\"][\"proportion\"]\n",
    "    }\n",
    "    \n",
    "    count += 1\n",
    "#end for\n",
    "\"\"\""
   ]
  },
  {
   "cell_type": "code",
   "execution_count": 148,
   "id": "f74b2fbb-9345-46bf-a3de-153388cfd27d",
   "metadata": {},
   "outputs": [
    {
     "name": "stdout",
     "output_type": "stream",
     "text": [
      "Artiodactyla\n",
      "Carnivora\n",
      "Chiroptera\n",
      "Eulipotyphla\n",
      "Glires\n",
      "Perissodactyla\n",
      "Primates\n"
     ]
    }
   ],
   "source": [
    "formatted_results = {}\n",
    "count = 1\n",
    "for sp in species:\n",
    "    print(sp)\n",
    "    for item in fits_RELAX_partitioned_descriptive['Rate Distributions'][sp].keys():\n",
    "        formatted_results[count] = {\n",
    "            \"Taxa\": sp,\n",
    "            \"Parameter\": \"Omega \" + str(int(item) + 1),\n",
    "            \"Gene_Omega\": fits_RELAX_partitioned_descriptive['Rate Distributions'][sp][item][\"omega\"],\n",
    "            \"Proportion\": fits_RELAX_partitioned_descriptive['Rate Distributions'][sp][item][\"proportion\"],\n",
    "            \"K\": test_results[\"relaxation or intensification parameter\"][sp]\n",
    "        }\n",
    "        count += 1\n",
    "    #end for\n",
    "    \n",
    "    \n",
    "#end for"
   ]
  },
  {
   "cell_type": "code",
   "execution_count": 149,
   "id": "40007c4c-615f-4d92-a925-a7e42659f1dd",
   "metadata": {},
   "outputs": [
    {
     "data": {
      "text/html": [
       "<div>\n",
       "<style scoped>\n",
       "    .dataframe tbody tr th:only-of-type {\n",
       "        vertical-align: middle;\n",
       "    }\n",
       "\n",
       "    .dataframe tbody tr th {\n",
       "        vertical-align: top;\n",
       "    }\n",
       "\n",
       "    .dataframe thead th {\n",
       "        text-align: right;\n",
       "    }\n",
       "</style>\n",
       "<table border=\"1\" class=\"dataframe\">\n",
       "  <thead>\n",
       "    <tr style=\"text-align: right;\">\n",
       "      <th></th>\n",
       "      <th>Taxa</th>\n",
       "      <th>Parameter</th>\n",
       "      <th>Gene_Omega</th>\n",
       "      <th>Proportion</th>\n",
       "      <th>K</th>\n",
       "    </tr>\n",
       "  </thead>\n",
       "  <tbody>\n",
       "    <tr>\n",
       "      <th>1</th>\n",
       "      <td>Artiodactyla</td>\n",
       "      <td>Omega 1</td>\n",
       "      <td>0.017408</td>\n",
       "      <td>0.864481</td>\n",
       "      <td>1.356042</td>\n",
       "    </tr>\n",
       "    <tr>\n",
       "      <th>2</th>\n",
       "      <td>Artiodactyla</td>\n",
       "      <td>Omega 2</td>\n",
       "      <td>0.998560</td>\n",
       "      <td>0.124057</td>\n",
       "      <td>1.356042</td>\n",
       "    </tr>\n",
       "    <tr>\n",
       "      <th>3</th>\n",
       "      <td>Artiodactyla</td>\n",
       "      <td>Omega 3</td>\n",
       "      <td>72.639147</td>\n",
       "      <td>0.011462</td>\n",
       "      <td>1.356042</td>\n",
       "    </tr>\n",
       "    <tr>\n",
       "      <th>4</th>\n",
       "      <td>Carnivora</td>\n",
       "      <td>Omega 1</td>\n",
       "      <td>0.000000</td>\n",
       "      <td>0.879066</td>\n",
       "      <td>1.315183</td>\n",
       "    </tr>\n",
       "    <tr>\n",
       "      <th>5</th>\n",
       "      <td>Carnivora</td>\n",
       "      <td>Omega 2</td>\n",
       "      <td>1.000000</td>\n",
       "      <td>0.102065</td>\n",
       "      <td>1.315183</td>\n",
       "    </tr>\n",
       "    <tr>\n",
       "      <th>6</th>\n",
       "      <td>Carnivora</td>\n",
       "      <td>Omega 3</td>\n",
       "      <td>25.375904</td>\n",
       "      <td>0.018869</td>\n",
       "      <td>1.315183</td>\n",
       "    </tr>\n",
       "    <tr>\n",
       "      <th>7</th>\n",
       "      <td>Chiroptera</td>\n",
       "      <td>Omega 1</td>\n",
       "      <td>0.041882</td>\n",
       "      <td>0.897361</td>\n",
       "      <td>0.519617</td>\n",
       "    </tr>\n",
       "    <tr>\n",
       "      <th>8</th>\n",
       "      <td>Chiroptera</td>\n",
       "      <td>Omega 2</td>\n",
       "      <td>1.000000</td>\n",
       "      <td>0.101716</td>\n",
       "      <td>0.519617</td>\n",
       "    </tr>\n",
       "    <tr>\n",
       "      <th>9</th>\n",
       "      <td>Chiroptera</td>\n",
       "      <td>Omega 3</td>\n",
       "      <td>29.317857</td>\n",
       "      <td>0.000923</td>\n",
       "      <td>0.519617</td>\n",
       "    </tr>\n",
       "    <tr>\n",
       "      <th>10</th>\n",
       "      <td>Eulipotyphla</td>\n",
       "      <td>Omega 1</td>\n",
       "      <td>0.047473</td>\n",
       "      <td>0.938786</td>\n",
       "      <td>0.018536</td>\n",
       "    </tr>\n",
       "    <tr>\n",
       "      <th>11</th>\n",
       "      <td>Eulipotyphla</td>\n",
       "      <td>Omega 2</td>\n",
       "      <td>1.000000</td>\n",
       "      <td>0.061214</td>\n",
       "      <td>0.018536</td>\n",
       "    </tr>\n",
       "    <tr>\n",
       "      <th>12</th>\n",
       "      <td>Eulipotyphla</td>\n",
       "      <td>Omega 3</td>\n",
       "      <td>9.491133</td>\n",
       "      <td>0.000000</td>\n",
       "      <td>0.018536</td>\n",
       "    </tr>\n",
       "    <tr>\n",
       "      <th>13</th>\n",
       "      <td>Glires</td>\n",
       "      <td>Omega 1</td>\n",
       "      <td>0.099771</td>\n",
       "      <td>0.604454</td>\n",
       "      <td>0.016395</td>\n",
       "    </tr>\n",
       "    <tr>\n",
       "      <th>14</th>\n",
       "      <td>Glires</td>\n",
       "      <td>Omega 2</td>\n",
       "      <td>0.115827</td>\n",
       "      <td>0.393811</td>\n",
       "      <td>0.016395</td>\n",
       "    </tr>\n",
       "    <tr>\n",
       "      <th>15</th>\n",
       "      <td>Glires</td>\n",
       "      <td>Omega 3</td>\n",
       "      <td>3.869578</td>\n",
       "      <td>0.001736</td>\n",
       "      <td>0.016395</td>\n",
       "    </tr>\n",
       "    <tr>\n",
       "      <th>16</th>\n",
       "      <td>Perissodactyla</td>\n",
       "      <td>Omega 1</td>\n",
       "      <td>0.078731</td>\n",
       "      <td>0.868468</td>\n",
       "      <td>1.394028</td>\n",
       "    </tr>\n",
       "    <tr>\n",
       "      <th>17</th>\n",
       "      <td>Perissodactyla</td>\n",
       "      <td>Omega 2</td>\n",
       "      <td>0.999368</td>\n",
       "      <td>0.000000</td>\n",
       "      <td>1.394028</td>\n",
       "    </tr>\n",
       "    <tr>\n",
       "      <th>18</th>\n",
       "      <td>Perissodactyla</td>\n",
       "      <td>Omega 3</td>\n",
       "      <td>5.154579</td>\n",
       "      <td>0.131532</td>\n",
       "      <td>1.394028</td>\n",
       "    </tr>\n",
       "    <tr>\n",
       "      <th>19</th>\n",
       "      <td>Primates</td>\n",
       "      <td>Omega 1</td>\n",
       "      <td>0.116814</td>\n",
       "      <td>0.900613</td>\n",
       "      <td>1.000000</td>\n",
       "    </tr>\n",
       "    <tr>\n",
       "      <th>20</th>\n",
       "      <td>Primates</td>\n",
       "      <td>Omega 2</td>\n",
       "      <td>0.122786</td>\n",
       "      <td>0.090769</td>\n",
       "      <td>1.000000</td>\n",
       "    </tr>\n",
       "    <tr>\n",
       "      <th>21</th>\n",
       "      <td>Primates</td>\n",
       "      <td>Omega 3</td>\n",
       "      <td>38.195796</td>\n",
       "      <td>0.008617</td>\n",
       "      <td>1.000000</td>\n",
       "    </tr>\n",
       "  </tbody>\n",
       "</table>\n",
       "</div>"
      ],
      "text/plain": [
       "              Taxa Parameter  Gene_Omega  Proportion         K\n",
       "1     Artiodactyla   Omega 1    0.017408    0.864481  1.356042\n",
       "2     Artiodactyla   Omega 2    0.998560    0.124057  1.356042\n",
       "3     Artiodactyla   Omega 3   72.639147    0.011462  1.356042\n",
       "4        Carnivora   Omega 1    0.000000    0.879066  1.315183\n",
       "5        Carnivora   Omega 2    1.000000    0.102065  1.315183\n",
       "6        Carnivora   Omega 3   25.375904    0.018869  1.315183\n",
       "7       Chiroptera   Omega 1    0.041882    0.897361  0.519617\n",
       "8       Chiroptera   Omega 2    1.000000    0.101716  0.519617\n",
       "9       Chiroptera   Omega 3   29.317857    0.000923  0.519617\n",
       "10    Eulipotyphla   Omega 1    0.047473    0.938786  0.018536\n",
       "11    Eulipotyphla   Omega 2    1.000000    0.061214  0.018536\n",
       "12    Eulipotyphla   Omega 3    9.491133    0.000000  0.018536\n",
       "13          Glires   Omega 1    0.099771    0.604454  0.016395\n",
       "14          Glires   Omega 2    0.115827    0.393811  0.016395\n",
       "15          Glires   Omega 3    3.869578    0.001736  0.016395\n",
       "16  Perissodactyla   Omega 1    0.078731    0.868468  1.394028\n",
       "17  Perissodactyla   Omega 2    0.999368    0.000000  1.394028\n",
       "18  Perissodactyla   Omega 3    5.154579    0.131532  1.394028\n",
       "19        Primates   Omega 1    0.116814    0.900613  1.000000\n",
       "20        Primates   Omega 2    0.122786    0.090769  1.000000\n",
       "21        Primates   Omega 3   38.195796    0.008617  1.000000"
      ]
     },
     "execution_count": 149,
     "metadata": {},
     "output_type": "execute_result"
    }
   ],
   "source": [
    "df = pd.DataFrame.from_dict(formatted_results, orient='index')\n",
    "df"
   ]
  },
  {
   "cell_type": "markdown",
   "id": "16af5195-0589-4e28-bc7c-eba8f11af00f",
   "metadata": {},
   "source": [
    "## Visualize"
   ]
  },
  {
   "cell_type": "code",
   "execution_count": 154,
   "id": "49a6daa5-a2e8-47aa-995f-5c4c6fa16f6b",
   "metadata": {},
   "outputs": [
    {
     "data": {
      "text/html": [
       "\n",
       "<div id=\"altair-viz-05916503a55841e9842aa143616a993a\"></div>\n",
       "<script type=\"text/javascript\">\n",
       "  (function(spec, embedOpt){\n",
       "    let outputDiv = document.currentScript.previousElementSibling;\n",
       "    if (outputDiv.id !== \"altair-viz-05916503a55841e9842aa143616a993a\") {\n",
       "      outputDiv = document.getElementById(\"altair-viz-05916503a55841e9842aa143616a993a\");\n",
       "    }\n",
       "    const paths = {\n",
       "      \"vega\": \"https://cdn.jsdelivr.net/npm//vega@5?noext\",\n",
       "      \"vega-lib\": \"https://cdn.jsdelivr.net/npm//vega-lib?noext\",\n",
       "      \"vega-lite\": \"https://cdn.jsdelivr.net/npm//vega-lite@4.8.1?noext\",\n",
       "      \"vega-embed\": \"https://cdn.jsdelivr.net/npm//vega-embed@6?noext\",\n",
       "    };\n",
       "\n",
       "    function loadScript(lib) {\n",
       "      return new Promise(function(resolve, reject) {\n",
       "        var s = document.createElement('script');\n",
       "        s.src = paths[lib];\n",
       "        s.async = true;\n",
       "        s.onload = () => resolve(paths[lib]);\n",
       "        s.onerror = () => reject(`Error loading script: ${paths[lib]}`);\n",
       "        document.getElementsByTagName(\"head\")[0].appendChild(s);\n",
       "      });\n",
       "    }\n",
       "\n",
       "    function showError(err) {\n",
       "      outputDiv.innerHTML = `<div class=\"error\" style=\"color:red;\">${err}</div>`;\n",
       "      throw err;\n",
       "    }\n",
       "\n",
       "    function displayChart(vegaEmbed) {\n",
       "      vegaEmbed(outputDiv, spec, embedOpt)\n",
       "        .catch(err => showError(`Javascript Error: ${err.message}<br>This usually means there's a typo in your chart specification. See the javascript console for the full traceback.`));\n",
       "    }\n",
       "\n",
       "    if(typeof define === \"function\" && define.amd) {\n",
       "      requirejs.config({paths});\n",
       "      require([\"vega-embed\"], displayChart, err => showError(`Error loading script: ${err.message}`));\n",
       "    } else if (typeof vegaEmbed === \"function\") {\n",
       "      displayChart(vegaEmbed);\n",
       "    } else {\n",
       "      loadScript(\"vega\")\n",
       "        .then(() => loadScript(\"vega-lite\"))\n",
       "        .then(() => loadScript(\"vega-embed\"))\n",
       "        .catch(showError)\n",
       "        .then(() => displayChart(vegaEmbed));\n",
       "    }\n",
       "  })({\"config\": {\"view\": {\"continuousWidth\": 400, \"continuousHeight\": 300}}, \"data\": {\"name\": \"data-de8c7301ec731754c68ea01f74193e00\"}, \"mark\": \"bar\", \"encoding\": {\"color\": {\"type\": \"nominal\", \"field\": \"Taxa\"}, \"x\": {\"type\": \"quantitative\", \"field\": \"Gene_Omega\", \"scale\": {\"type\": \"linear\"}, \"title\": \"Omega distribution\"}, \"y\": {\"type\": \"quantitative\", \"field\": \"Proportion\", \"scale\": {\"type\": \"sqrt\"}}}, \"height\": 400, \"title\": \"Relaxed selection in Mammalian REM2\", \"width\": 600, \"$schema\": \"https://vega.github.io/schema/vega-lite/v4.8.1.json\", \"datasets\": {\"data-de8c7301ec731754c68ea01f74193e00\": [{\"Taxa\": \"Artiodactyla\", \"Parameter\": \"Omega 1\", \"Gene_Omega\": 0.01740803078062405, \"Proportion\": 0.8644814452976759, \"K\": 1.35604209998685}, {\"Taxa\": \"Artiodactyla\", \"Parameter\": \"Omega 2\", \"Gene_Omega\": 0.9985603670630441, \"Proportion\": 0.1240568830784497, \"K\": 1.35604209998685}, {\"Taxa\": \"Artiodactyla\", \"Parameter\": \"Omega 3\", \"Gene_Omega\": 72.63914743408239, \"Proportion\": 0.01146167162387444, \"K\": 1.35604209998685}, {\"Taxa\": \"Carnivora\", \"Parameter\": \"Omega 1\", \"Gene_Omega\": 0.0, \"Proportion\": 0.8790656666907216, \"K\": 1.315182714197658}, {\"Taxa\": \"Carnivora\", \"Parameter\": \"Omega 2\", \"Gene_Omega\": 1.0, \"Proportion\": 0.1020651564002634, \"K\": 1.315182714197658}, {\"Taxa\": \"Carnivora\", \"Parameter\": \"Omega 3\", \"Gene_Omega\": 25.37590401785588, \"Proportion\": 0.01886917690901496, \"K\": 1.315182714197658}, {\"Taxa\": \"Chiroptera\", \"Parameter\": \"Omega 1\", \"Gene_Omega\": 0.0418820049755949, \"Proportion\": 0.8973608713381517, \"K\": 0.5196171845894485}, {\"Taxa\": \"Chiroptera\", \"Parameter\": \"Omega 2\", \"Gene_Omega\": 1.0, \"Proportion\": 0.1017159886228614, \"K\": 0.5196171845894485}, {\"Taxa\": \"Chiroptera\", \"Parameter\": \"Omega 3\", \"Gene_Omega\": 29.31785703613311, \"Proportion\": 0.0009231400389869436, \"K\": 0.5196171845894485}, {\"Taxa\": \"Eulipotyphla\", \"Parameter\": \"Omega 1\", \"Gene_Omega\": 0.04747286545496301, \"Proportion\": 0.9387856777329877, \"K\": 0.01853643407134861}, {\"Taxa\": \"Eulipotyphla\", \"Parameter\": \"Omega 2\", \"Gene_Omega\": 1.0, \"Proportion\": 0.06121432226701229, \"K\": 0.01853643407134861}, {\"Taxa\": \"Eulipotyphla\", \"Parameter\": \"Omega 3\", \"Gene_Omega\": 9.491133103269702, \"Proportion\": 0.0, \"K\": 0.01853643407134861}, {\"Taxa\": \"Glires\", \"Parameter\": \"Omega 1\", \"Gene_Omega\": 0.09977088271127328, \"Proportion\": 0.6044535380595913, \"K\": 0.01639513555879648}, {\"Taxa\": \"Glires\", \"Parameter\": \"Omega 2\", \"Gene_Omega\": 0.1158274921529192, \"Proportion\": 0.3938108732787973, \"K\": 0.01639513555879648}, {\"Taxa\": \"Glires\", \"Parameter\": \"Omega 3\", \"Gene_Omega\": 3.86957758083343, \"Proportion\": 0.001735588661611368, \"K\": 0.01639513555879648}, {\"Taxa\": \"Perissodactyla\", \"Parameter\": \"Omega 1\", \"Gene_Omega\": 0.07873104758064099, \"Proportion\": 0.8684675354685624, \"K\": 1.394028437004299}, {\"Taxa\": \"Perissodactyla\", \"Parameter\": \"Omega 2\", \"Gene_Omega\": 0.999368433118802, \"Proportion\": 0.0, \"K\": 1.394028437004299}, {\"Taxa\": \"Perissodactyla\", \"Parameter\": \"Omega 3\", \"Gene_Omega\": 5.154579028370033, \"Proportion\": 0.1315324645314376, \"K\": 1.394028437004299}, {\"Taxa\": \"Primates\", \"Parameter\": \"Omega 1\", \"Gene_Omega\": 0.1168138321784206, \"Proportion\": 0.9006131359290503, \"K\": 1.0}, {\"Taxa\": \"Primates\", \"Parameter\": \"Omega 2\", \"Gene_Omega\": 0.1227863579910532, \"Proportion\": 0.09076947338807981, \"K\": 1.0}, {\"Taxa\": \"Primates\", \"Parameter\": \"Omega 3\", \"Gene_Omega\": 38.1957963541259, \"Proportion\": 0.008617390682869841, \"K\": 1.0}]}}, {\"mode\": \"vega-lite\"});\n",
       "</script>"
      ],
      "text/plain": [
       "alt.Chart(...)"
      ]
     },
     "execution_count": 154,
     "metadata": {},
     "output_type": "execute_result"
    }
   ],
   "source": [
    "source = df\n",
    "\n",
    "line = alt.Chart(source).mark_bar().encode(\n",
    "    x=alt.X('Gene_Omega', scale=alt.Scale(type='linear'), title=\"Omega distribution\"),\n",
    "    y=alt.Y('Proportion', scale=alt.Scale(type='sqrt')),\n",
    "    color=alt.Color('Taxa')\n",
    ").properties(\n",
    "    width=600,\n",
    "    height=400,\n",
    "    title=\"Relaxed selection in Mammalian REM2\"\n",
    ")\n",
    "\n",
    "line.configure_title(\n",
    "    fontSize=20,\n",
    "    font='Courier',\n",
    "    anchor='start',\n",
    "    color='gray'\n",
    ")\n",
    "\n",
    "\n",
    "\"\"\"\n",
    "1) Continuous Scales – mapping continuous domains to continuous output ranges ( “linear”, “pow”, “sqrt”, “symlog”, “log”, “time”, “utc”.\n",
    "\n",
    "2) Discrete Scales – mapping discrete domains to discrete ( “ordinal” ) or continuous ( “band” and “point” ) output ranges.\n",
    "\n",
    "3) Discretizing Scales – mapping continuous domains to discrete output ranges “bin-ordinal”, “quantile”, “quantize” and “threshold”.\n",
    "\n",
    "\"\"\"\n",
    "\n",
    "line"
   ]
  },
  {
   "cell_type": "code",
   "execution_count": 151,
   "id": "950f3ba6-2b88-4c1c-9e47-4aac01a4b39d",
   "metadata": {},
   "outputs": [
    {
     "data": {
      "text/html": [
       "\n",
       "<div id=\"altair-viz-11bc9d83dacd4c19975401d3a8727435\"></div>\n",
       "<script type=\"text/javascript\">\n",
       "  (function(spec, embedOpt){\n",
       "    let outputDiv = document.currentScript.previousElementSibling;\n",
       "    if (outputDiv.id !== \"altair-viz-11bc9d83dacd4c19975401d3a8727435\") {\n",
       "      outputDiv = document.getElementById(\"altair-viz-11bc9d83dacd4c19975401d3a8727435\");\n",
       "    }\n",
       "    const paths = {\n",
       "      \"vega\": \"https://cdn.jsdelivr.net/npm//vega@5?noext\",\n",
       "      \"vega-lib\": \"https://cdn.jsdelivr.net/npm//vega-lib?noext\",\n",
       "      \"vega-lite\": \"https://cdn.jsdelivr.net/npm//vega-lite@4.8.1?noext\",\n",
       "      \"vega-embed\": \"https://cdn.jsdelivr.net/npm//vega-embed@6?noext\",\n",
       "    };\n",
       "\n",
       "    function loadScript(lib) {\n",
       "      return new Promise(function(resolve, reject) {\n",
       "        var s = document.createElement('script');\n",
       "        s.src = paths[lib];\n",
       "        s.async = true;\n",
       "        s.onload = () => resolve(paths[lib]);\n",
       "        s.onerror = () => reject(`Error loading script: ${paths[lib]}`);\n",
       "        document.getElementsByTagName(\"head\")[0].appendChild(s);\n",
       "      });\n",
       "    }\n",
       "\n",
       "    function showError(err) {\n",
       "      outputDiv.innerHTML = `<div class=\"error\" style=\"color:red;\">${err}</div>`;\n",
       "      throw err;\n",
       "    }\n",
       "\n",
       "    function displayChart(vegaEmbed) {\n",
       "      vegaEmbed(outputDiv, spec, embedOpt)\n",
       "        .catch(err => showError(`Javascript Error: ${err.message}<br>This usually means there's a typo in your chart specification. See the javascript console for the full traceback.`));\n",
       "    }\n",
       "\n",
       "    if(typeof define === \"function\" && define.amd) {\n",
       "      requirejs.config({paths});\n",
       "      require([\"vega-embed\"], displayChart, err => showError(`Error loading script: ${err.message}`));\n",
       "    } else if (typeof vegaEmbed === \"function\") {\n",
       "      displayChart(vegaEmbed);\n",
       "    } else {\n",
       "      loadScript(\"vega\")\n",
       "        .then(() => loadScript(\"vega-lite\"))\n",
       "        .then(() => loadScript(\"vega-embed\"))\n",
       "        .catch(showError)\n",
       "        .then(() => displayChart(vegaEmbed));\n",
       "    }\n",
       "  })({\"config\": {\"view\": {\"continuousWidth\": 400, \"continuousHeight\": 300, \"stroke\": \"Black\"}}, \"data\": {\"name\": \"data-de8c7301ec731754c68ea01f74193e00\"}, \"mark\": \"bar\", \"encoding\": {\"color\": {\"type\": \"nominal\", \"field\": \"Taxa\"}, \"size\": {\"type\": \"quantitative\", \"field\": \"K\"}, \"x\": {\"type\": \"quantitative\", \"field\": \"Gene_Omega\", \"scale\": {\"type\": \"linear\"}}, \"y\": {\"type\": \"quantitative\", \"field\": \"Proportion\", \"scale\": {\"type\": \"sqrt\"}}}, \"height\": 400, \"title\": \"RELAX\", \"width\": 500, \"$schema\": \"https://vega.github.io/schema/vega-lite/v4.8.1.json\", \"datasets\": {\"data-de8c7301ec731754c68ea01f74193e00\": [{\"Taxa\": \"Artiodactyla\", \"Parameter\": \"Omega 1\", \"Gene_Omega\": 0.01740803078062405, \"Proportion\": 0.8644814452976759, \"K\": 1.35604209998685}, {\"Taxa\": \"Artiodactyla\", \"Parameter\": \"Omega 2\", \"Gene_Omega\": 0.9985603670630441, \"Proportion\": 0.1240568830784497, \"K\": 1.35604209998685}, {\"Taxa\": \"Artiodactyla\", \"Parameter\": \"Omega 3\", \"Gene_Omega\": 72.63914743408239, \"Proportion\": 0.01146167162387444, \"K\": 1.35604209998685}, {\"Taxa\": \"Carnivora\", \"Parameter\": \"Omega 1\", \"Gene_Omega\": 0.0, \"Proportion\": 0.8790656666907216, \"K\": 1.315182714197658}, {\"Taxa\": \"Carnivora\", \"Parameter\": \"Omega 2\", \"Gene_Omega\": 1.0, \"Proportion\": 0.1020651564002634, \"K\": 1.315182714197658}, {\"Taxa\": \"Carnivora\", \"Parameter\": \"Omega 3\", \"Gene_Omega\": 25.37590401785588, \"Proportion\": 0.01886917690901496, \"K\": 1.315182714197658}, {\"Taxa\": \"Chiroptera\", \"Parameter\": \"Omega 1\", \"Gene_Omega\": 0.0418820049755949, \"Proportion\": 0.8973608713381517, \"K\": 0.5196171845894485}, {\"Taxa\": \"Chiroptera\", \"Parameter\": \"Omega 2\", \"Gene_Omega\": 1.0, \"Proportion\": 0.1017159886228614, \"K\": 0.5196171845894485}, {\"Taxa\": \"Chiroptera\", \"Parameter\": \"Omega 3\", \"Gene_Omega\": 29.31785703613311, \"Proportion\": 0.0009231400389869436, \"K\": 0.5196171845894485}, {\"Taxa\": \"Eulipotyphla\", \"Parameter\": \"Omega 1\", \"Gene_Omega\": 0.04747286545496301, \"Proportion\": 0.9387856777329877, \"K\": 0.01853643407134861}, {\"Taxa\": \"Eulipotyphla\", \"Parameter\": \"Omega 2\", \"Gene_Omega\": 1.0, \"Proportion\": 0.06121432226701229, \"K\": 0.01853643407134861}, {\"Taxa\": \"Eulipotyphla\", \"Parameter\": \"Omega 3\", \"Gene_Omega\": 9.491133103269702, \"Proportion\": 0.0, \"K\": 0.01853643407134861}, {\"Taxa\": \"Glires\", \"Parameter\": \"Omega 1\", \"Gene_Omega\": 0.09977088271127328, \"Proportion\": 0.6044535380595913, \"K\": 0.01639513555879648}, {\"Taxa\": \"Glires\", \"Parameter\": \"Omega 2\", \"Gene_Omega\": 0.1158274921529192, \"Proportion\": 0.3938108732787973, \"K\": 0.01639513555879648}, {\"Taxa\": \"Glires\", \"Parameter\": \"Omega 3\", \"Gene_Omega\": 3.86957758083343, \"Proportion\": 0.001735588661611368, \"K\": 0.01639513555879648}, {\"Taxa\": \"Perissodactyla\", \"Parameter\": \"Omega 1\", \"Gene_Omega\": 0.07873104758064099, \"Proportion\": 0.8684675354685624, \"K\": 1.394028437004299}, {\"Taxa\": \"Perissodactyla\", \"Parameter\": \"Omega 2\", \"Gene_Omega\": 0.999368433118802, \"Proportion\": 0.0, \"K\": 1.394028437004299}, {\"Taxa\": \"Perissodactyla\", \"Parameter\": \"Omega 3\", \"Gene_Omega\": 5.154579028370033, \"Proportion\": 0.1315324645314376, \"K\": 1.394028437004299}, {\"Taxa\": \"Primates\", \"Parameter\": \"Omega 1\", \"Gene_Omega\": 0.1168138321784206, \"Proportion\": 0.9006131359290503, \"K\": 1.0}, {\"Taxa\": \"Primates\", \"Parameter\": \"Omega 2\", \"Gene_Omega\": 0.1227863579910532, \"Proportion\": 0.09076947338807981, \"K\": 1.0}, {\"Taxa\": \"Primates\", \"Parameter\": \"Omega 3\", \"Gene_Omega\": 38.1957963541259, \"Proportion\": 0.008617390682869841, \"K\": 1.0}]}}, {\"mode\": \"vega-lite\"});\n",
       "</script>"
      ],
      "text/plain": [
       "alt.Chart(...)"
      ]
     },
     "execution_count": 151,
     "metadata": {},
     "output_type": "execute_result"
    }
   ],
   "source": [
    "source = df\n",
    "\n",
    "line = alt.Chart(source).mark_bar().encode(\n",
    "    x=alt.X('Gene_Omega', scale=alt.Scale(type='linear')),\n",
    "    y=alt.Y('Proportion', scale=alt.Scale(type='sqrt')),\n",
    "    color=alt.Color('Taxa'),\n",
    "    size=\"K\"\n",
    ").properties(\n",
    "    width=500,\n",
    "    height=400,\n",
    "    title=\"RELAX\"\n",
    ").configure_view(\n",
    "    stroke=\"Black\"\n",
    ")\n",
    "\n",
    "line.configure_title(\n",
    "    fontSize=20,\n",
    "    font='Courier',\n",
    "    anchor='start',\n",
    "    color='gray'\n",
    ")\n",
    "\n",
    "\n",
    "\"\"\"\n",
    "1) Continuous Scales – mapping continuous domains to continuous output ranges ( “linear”, “pow”, “sqrt”, “symlog”, “log”, “time”, “utc”.\n",
    "\n",
    "2) Discrete Scales – mapping discrete domains to discrete ( “ordinal” ) or continuous ( “band” and “point” ) output ranges.\n",
    "\n",
    "3) Discretizing Scales – mapping continuous domains to discrete output ranges “bin-ordinal”, “quantile”, “quantize” and “threshold”.\n",
    "\n",
    "\"\"\"\n",
    "\n",
    "line"
   ]
  },
  {
   "cell_type": "code",
   "execution_count": 161,
   "id": "8f2d363e-5dcc-4a9a-a157-07d9763f0ab1",
   "metadata": {},
   "outputs": [
    {
     "data": {
      "text/html": [
       "\n",
       "<div id=\"altair-viz-57ca5bf00b2b42d7a1cba4ea6b836ce2\"></div>\n",
       "<script type=\"text/javascript\">\n",
       "  (function(spec, embedOpt){\n",
       "    let outputDiv = document.currentScript.previousElementSibling;\n",
       "    if (outputDiv.id !== \"altair-viz-57ca5bf00b2b42d7a1cba4ea6b836ce2\") {\n",
       "      outputDiv = document.getElementById(\"altair-viz-57ca5bf00b2b42d7a1cba4ea6b836ce2\");\n",
       "    }\n",
       "    const paths = {\n",
       "      \"vega\": \"https://cdn.jsdelivr.net/npm//vega@5?noext\",\n",
       "      \"vega-lib\": \"https://cdn.jsdelivr.net/npm//vega-lib?noext\",\n",
       "      \"vega-lite\": \"https://cdn.jsdelivr.net/npm//vega-lite@4.8.1?noext\",\n",
       "      \"vega-embed\": \"https://cdn.jsdelivr.net/npm//vega-embed@6?noext\",\n",
       "    };\n",
       "\n",
       "    function loadScript(lib) {\n",
       "      return new Promise(function(resolve, reject) {\n",
       "        var s = document.createElement('script');\n",
       "        s.src = paths[lib];\n",
       "        s.async = true;\n",
       "        s.onload = () => resolve(paths[lib]);\n",
       "        s.onerror = () => reject(`Error loading script: ${paths[lib]}`);\n",
       "        document.getElementsByTagName(\"head\")[0].appendChild(s);\n",
       "      });\n",
       "    }\n",
       "\n",
       "    function showError(err) {\n",
       "      outputDiv.innerHTML = `<div class=\"error\" style=\"color:red;\">${err}</div>`;\n",
       "      throw err;\n",
       "    }\n",
       "\n",
       "    function displayChart(vegaEmbed) {\n",
       "      vegaEmbed(outputDiv, spec, embedOpt)\n",
       "        .catch(err => showError(`Javascript Error: ${err.message}<br>This usually means there's a typo in your chart specification. See the javascript console for the full traceback.`));\n",
       "    }\n",
       "\n",
       "    if(typeof define === \"function\" && define.amd) {\n",
       "      requirejs.config({paths});\n",
       "      require([\"vega-embed\"], displayChart, err => showError(`Error loading script: ${err.message}`));\n",
       "    } else if (typeof vegaEmbed === \"function\") {\n",
       "      displayChart(vegaEmbed);\n",
       "    } else {\n",
       "      loadScript(\"vega\")\n",
       "        .then(() => loadScript(\"vega-lite\"))\n",
       "        .then(() => loadScript(\"vega-embed\"))\n",
       "        .catch(showError)\n",
       "        .then(() => displayChart(vegaEmbed));\n",
       "    }\n",
       "  })({\"config\": {\"view\": {\"continuousWidth\": 400, \"continuousHeight\": 300}}, \"data\": {\"name\": \"data-de8c7301ec731754c68ea01f74193e00\"}, \"facet\": {\"type\": \"nominal\", \"field\": \"Taxa\", \"title\": \"Relaxed selection across taxa in Mammalian REM2\"}, \"spec\": {\"mark\": \"bar\", \"encoding\": {\"color\": {\"type\": \"nominal\", \"field\": \"Parameter\", \"scale\": {}}, \"x\": {\"type\": \"quantitative\", \"field\": \"Gene_Omega\", \"scale\": {\"type\": \"sqrt\"}, \"title\": \"Omega distribution\"}, \"y\": {\"type\": \"quantitative\", \"field\": \"Proportion\", \"scale\": {\"type\": \"sqrt\"}}}, \"height\": 200, \"title\": \"Relaxed selection in Mammalian REM2\", \"width\": 200}, \"columns\": 3, \"$schema\": \"https://vega.github.io/schema/vega-lite/v4.8.1.json\", \"datasets\": {\"data-de8c7301ec731754c68ea01f74193e00\": [{\"Taxa\": \"Artiodactyla\", \"Parameter\": \"Omega 1\", \"Gene_Omega\": 0.01740803078062405, \"Proportion\": 0.8644814452976759, \"K\": 1.35604209998685}, {\"Taxa\": \"Artiodactyla\", \"Parameter\": \"Omega 2\", \"Gene_Omega\": 0.9985603670630441, \"Proportion\": 0.1240568830784497, \"K\": 1.35604209998685}, {\"Taxa\": \"Artiodactyla\", \"Parameter\": \"Omega 3\", \"Gene_Omega\": 72.63914743408239, \"Proportion\": 0.01146167162387444, \"K\": 1.35604209998685}, {\"Taxa\": \"Carnivora\", \"Parameter\": \"Omega 1\", \"Gene_Omega\": 0.0, \"Proportion\": 0.8790656666907216, \"K\": 1.315182714197658}, {\"Taxa\": \"Carnivora\", \"Parameter\": \"Omega 2\", \"Gene_Omega\": 1.0, \"Proportion\": 0.1020651564002634, \"K\": 1.315182714197658}, {\"Taxa\": \"Carnivora\", \"Parameter\": \"Omega 3\", \"Gene_Omega\": 25.37590401785588, \"Proportion\": 0.01886917690901496, \"K\": 1.315182714197658}, {\"Taxa\": \"Chiroptera\", \"Parameter\": \"Omega 1\", \"Gene_Omega\": 0.0418820049755949, \"Proportion\": 0.8973608713381517, \"K\": 0.5196171845894485}, {\"Taxa\": \"Chiroptera\", \"Parameter\": \"Omega 2\", \"Gene_Omega\": 1.0, \"Proportion\": 0.1017159886228614, \"K\": 0.5196171845894485}, {\"Taxa\": \"Chiroptera\", \"Parameter\": \"Omega 3\", \"Gene_Omega\": 29.31785703613311, \"Proportion\": 0.0009231400389869436, \"K\": 0.5196171845894485}, {\"Taxa\": \"Eulipotyphla\", \"Parameter\": \"Omega 1\", \"Gene_Omega\": 0.04747286545496301, \"Proportion\": 0.9387856777329877, \"K\": 0.01853643407134861}, {\"Taxa\": \"Eulipotyphla\", \"Parameter\": \"Omega 2\", \"Gene_Omega\": 1.0, \"Proportion\": 0.06121432226701229, \"K\": 0.01853643407134861}, {\"Taxa\": \"Eulipotyphla\", \"Parameter\": \"Omega 3\", \"Gene_Omega\": 9.491133103269702, \"Proportion\": 0.0, \"K\": 0.01853643407134861}, {\"Taxa\": \"Glires\", \"Parameter\": \"Omega 1\", \"Gene_Omega\": 0.09977088271127328, \"Proportion\": 0.6044535380595913, \"K\": 0.01639513555879648}, {\"Taxa\": \"Glires\", \"Parameter\": \"Omega 2\", \"Gene_Omega\": 0.1158274921529192, \"Proportion\": 0.3938108732787973, \"K\": 0.01639513555879648}, {\"Taxa\": \"Glires\", \"Parameter\": \"Omega 3\", \"Gene_Omega\": 3.86957758083343, \"Proportion\": 0.001735588661611368, \"K\": 0.01639513555879648}, {\"Taxa\": \"Perissodactyla\", \"Parameter\": \"Omega 1\", \"Gene_Omega\": 0.07873104758064099, \"Proportion\": 0.8684675354685624, \"K\": 1.394028437004299}, {\"Taxa\": \"Perissodactyla\", \"Parameter\": \"Omega 2\", \"Gene_Omega\": 0.999368433118802, \"Proportion\": 0.0, \"K\": 1.394028437004299}, {\"Taxa\": \"Perissodactyla\", \"Parameter\": \"Omega 3\", \"Gene_Omega\": 5.154579028370033, \"Proportion\": 0.1315324645314376, \"K\": 1.394028437004299}, {\"Taxa\": \"Primates\", \"Parameter\": \"Omega 1\", \"Gene_Omega\": 0.1168138321784206, \"Proportion\": 0.9006131359290503, \"K\": 1.0}, {\"Taxa\": \"Primates\", \"Parameter\": \"Omega 2\", \"Gene_Omega\": 0.1227863579910532, \"Proportion\": 0.09076947338807981, \"K\": 1.0}, {\"Taxa\": \"Primates\", \"Parameter\": \"Omega 3\", \"Gene_Omega\": 38.1957963541259, \"Proportion\": 0.008617390682869841, \"K\": 1.0}]}}, {\"mode\": \"vega-lite\"});\n",
       "</script>"
      ],
      "text/plain": [
       "alt.FacetChart(...)"
      ]
     },
     "execution_count": 161,
     "metadata": {},
     "output_type": "execute_result"
    }
   ],
   "source": [
    "source = df\n",
    "\n",
    "line = alt.Chart(source).mark_bar().encode(\n",
    "    x=alt.X('Gene_Omega', scale=alt.Scale(type='sqrt'), title=\"Omega distribution\"),\n",
    "    y=alt.Y('Proportion', scale=alt.Scale(type='sqrt')),\n",
    "    color=alt.Color(\"Parameter\", scale=alt.Scale())\n",
    ").properties(\n",
    "    width=200,\n",
    "    height=200,\n",
    "    title=\"Relaxed selection in Mammalian REM2\"\n",
    ").facet(\n",
    "    facet=alt.Facet('Taxa', title=\"Relaxed selection across taxa in Mammalian REM2\"),\n",
    "    columns=3\n",
    ")\n",
    "\n",
    "line.configure_title(\n",
    "    fontSize=20,\n",
    "    font='Courier',\n",
    "    anchor='start',\n",
    "    color='black'\n",
    ")\n",
    "\n",
    "\n",
    "\"\"\"\n",
    "1) Continuous Scales – mapping continuous domains to continuous output ranges ( “linear”, “pow”, “sqrt”, “symlog”, “log”, “time”, “utc”.\n",
    "\n",
    "2) Discrete Scales – mapping discrete domains to discrete ( “ordinal” ) or continuous ( “band” and “point” ) output ranges.\n",
    "\n",
    "3) Discretizing Scales – mapping continuous domains to discrete output ranges “bin-ordinal”, “quantile”, “quantize” and “threshold”.\n",
    "\n",
    "\"\"\"\n",
    "\n",
    "line"
   ]
  },
  {
   "cell_type": "code",
   "execution_count": 158,
   "id": "7b8d05ee-69d1-49a6-b8ff-64924caaac1e",
   "metadata": {},
   "outputs": [
    {
     "data": {
      "text/html": [
       "\n",
       "<div id=\"altair-viz-0103bf923bd045f2bb86d49351f02d59\"></div>\n",
       "<script type=\"text/javascript\">\n",
       "  (function(spec, embedOpt){\n",
       "    let outputDiv = document.currentScript.previousElementSibling;\n",
       "    if (outputDiv.id !== \"altair-viz-0103bf923bd045f2bb86d49351f02d59\") {\n",
       "      outputDiv = document.getElementById(\"altair-viz-0103bf923bd045f2bb86d49351f02d59\");\n",
       "    }\n",
       "    const paths = {\n",
       "      \"vega\": \"https://cdn.jsdelivr.net/npm//vega@5?noext\",\n",
       "      \"vega-lib\": \"https://cdn.jsdelivr.net/npm//vega-lib?noext\",\n",
       "      \"vega-lite\": \"https://cdn.jsdelivr.net/npm//vega-lite@4.8.1?noext\",\n",
       "      \"vega-embed\": \"https://cdn.jsdelivr.net/npm//vega-embed@6?noext\",\n",
       "    };\n",
       "\n",
       "    function loadScript(lib) {\n",
       "      return new Promise(function(resolve, reject) {\n",
       "        var s = document.createElement('script');\n",
       "        s.src = paths[lib];\n",
       "        s.async = true;\n",
       "        s.onload = () => resolve(paths[lib]);\n",
       "        s.onerror = () => reject(`Error loading script: ${paths[lib]}`);\n",
       "        document.getElementsByTagName(\"head\")[0].appendChild(s);\n",
       "      });\n",
       "    }\n",
       "\n",
       "    function showError(err) {\n",
       "      outputDiv.innerHTML = `<div class=\"error\" style=\"color:red;\">${err}</div>`;\n",
       "      throw err;\n",
       "    }\n",
       "\n",
       "    function displayChart(vegaEmbed) {\n",
       "      vegaEmbed(outputDiv, spec, embedOpt)\n",
       "        .catch(err => showError(`Javascript Error: ${err.message}<br>This usually means there's a typo in your chart specification. See the javascript console for the full traceback.`));\n",
       "    }\n",
       "\n",
       "    if(typeof define === \"function\" && define.amd) {\n",
       "      requirejs.config({paths});\n",
       "      require([\"vega-embed\"], displayChart, err => showError(`Error loading script: ${err.message}`));\n",
       "    } else if (typeof vegaEmbed === \"function\") {\n",
       "      displayChart(vegaEmbed);\n",
       "    } else {\n",
       "      loadScript(\"vega\")\n",
       "        .then(() => loadScript(\"vega-lite\"))\n",
       "        .then(() => loadScript(\"vega-embed\"))\n",
       "        .catch(showError)\n",
       "        .then(() => displayChart(vegaEmbed));\n",
       "    }\n",
       "  })({\"config\": {\"view\": {\"continuousWidth\": 400, \"continuousHeight\": 300}}, \"data\": {\"name\": \"data-de8c7301ec731754c68ea01f74193e00\"}, \"facet\": {\"type\": \"nominal\", \"field\": \"Taxa\", \"sort\": {\"field\": \"K\", \"order\": \"descending\"}}, \"spec\": {\"mark\": \"bar\", \"encoding\": {\"color\": {\"type\": \"nominal\", \"field\": \"Parameter\", \"scale\": {\"scheme\": \"greenblue\"}}, \"x\": {\"type\": \"quantitative\", \"field\": \"Gene_Omega\", \"scale\": {\"type\": \"sqrt\"}, \"title\": \"Omega distribution\"}, \"y\": {\"type\": \"quantitative\", \"field\": \"Proportion\", \"scale\": {\"type\": \"sqrt\"}}}, \"height\": 200, \"title\": \"Relaxed selection in Mammalian REM2\", \"width\": 200}, \"columns\": 3, \"$schema\": \"https://vega.github.io/schema/vega-lite/v4.8.1.json\", \"datasets\": {\"data-de8c7301ec731754c68ea01f74193e00\": [{\"Taxa\": \"Artiodactyla\", \"Parameter\": \"Omega 1\", \"Gene_Omega\": 0.01740803078062405, \"Proportion\": 0.8644814452976759, \"K\": 1.35604209998685}, {\"Taxa\": \"Artiodactyla\", \"Parameter\": \"Omega 2\", \"Gene_Omega\": 0.9985603670630441, \"Proportion\": 0.1240568830784497, \"K\": 1.35604209998685}, {\"Taxa\": \"Artiodactyla\", \"Parameter\": \"Omega 3\", \"Gene_Omega\": 72.63914743408239, \"Proportion\": 0.01146167162387444, \"K\": 1.35604209998685}, {\"Taxa\": \"Carnivora\", \"Parameter\": \"Omega 1\", \"Gene_Omega\": 0.0, \"Proportion\": 0.8790656666907216, \"K\": 1.315182714197658}, {\"Taxa\": \"Carnivora\", \"Parameter\": \"Omega 2\", \"Gene_Omega\": 1.0, \"Proportion\": 0.1020651564002634, \"K\": 1.315182714197658}, {\"Taxa\": \"Carnivora\", \"Parameter\": \"Omega 3\", \"Gene_Omega\": 25.37590401785588, \"Proportion\": 0.01886917690901496, \"K\": 1.315182714197658}, {\"Taxa\": \"Chiroptera\", \"Parameter\": \"Omega 1\", \"Gene_Omega\": 0.0418820049755949, \"Proportion\": 0.8973608713381517, \"K\": 0.5196171845894485}, {\"Taxa\": \"Chiroptera\", \"Parameter\": \"Omega 2\", \"Gene_Omega\": 1.0, \"Proportion\": 0.1017159886228614, \"K\": 0.5196171845894485}, {\"Taxa\": \"Chiroptera\", \"Parameter\": \"Omega 3\", \"Gene_Omega\": 29.31785703613311, \"Proportion\": 0.0009231400389869436, \"K\": 0.5196171845894485}, {\"Taxa\": \"Eulipotyphla\", \"Parameter\": \"Omega 1\", \"Gene_Omega\": 0.04747286545496301, \"Proportion\": 0.9387856777329877, \"K\": 0.01853643407134861}, {\"Taxa\": \"Eulipotyphla\", \"Parameter\": \"Omega 2\", \"Gene_Omega\": 1.0, \"Proportion\": 0.06121432226701229, \"K\": 0.01853643407134861}, {\"Taxa\": \"Eulipotyphla\", \"Parameter\": \"Omega 3\", \"Gene_Omega\": 9.491133103269702, \"Proportion\": 0.0, \"K\": 0.01853643407134861}, {\"Taxa\": \"Glires\", \"Parameter\": \"Omega 1\", \"Gene_Omega\": 0.09977088271127328, \"Proportion\": 0.6044535380595913, \"K\": 0.01639513555879648}, {\"Taxa\": \"Glires\", \"Parameter\": \"Omega 2\", \"Gene_Omega\": 0.1158274921529192, \"Proportion\": 0.3938108732787973, \"K\": 0.01639513555879648}, {\"Taxa\": \"Glires\", \"Parameter\": \"Omega 3\", \"Gene_Omega\": 3.86957758083343, \"Proportion\": 0.001735588661611368, \"K\": 0.01639513555879648}, {\"Taxa\": \"Perissodactyla\", \"Parameter\": \"Omega 1\", \"Gene_Omega\": 0.07873104758064099, \"Proportion\": 0.8684675354685624, \"K\": 1.394028437004299}, {\"Taxa\": \"Perissodactyla\", \"Parameter\": \"Omega 2\", \"Gene_Omega\": 0.999368433118802, \"Proportion\": 0.0, \"K\": 1.394028437004299}, {\"Taxa\": \"Perissodactyla\", \"Parameter\": \"Omega 3\", \"Gene_Omega\": 5.154579028370033, \"Proportion\": 0.1315324645314376, \"K\": 1.394028437004299}, {\"Taxa\": \"Primates\", \"Parameter\": \"Omega 1\", \"Gene_Omega\": 0.1168138321784206, \"Proportion\": 0.9006131359290503, \"K\": 1.0}, {\"Taxa\": \"Primates\", \"Parameter\": \"Omega 2\", \"Gene_Omega\": 0.1227863579910532, \"Proportion\": 0.09076947338807981, \"K\": 1.0}, {\"Taxa\": \"Primates\", \"Parameter\": \"Omega 3\", \"Gene_Omega\": 38.1957963541259, \"Proportion\": 0.008617390682869841, \"K\": 1.0}]}}, {\"mode\": \"vega-lite\"});\n",
       "</script>"
      ],
      "text/plain": [
       "alt.FacetChart(...)"
      ]
     },
     "execution_count": 158,
     "metadata": {},
     "output_type": "execute_result"
    }
   ],
   "source": [
    "source = df\n",
    "\n",
    "line = alt.Chart(source).mark_bar().encode(\n",
    "    x=alt.X('Gene_Omega', scale=alt.Scale(type='sqrt'), title=\"Omega distribution\"),\n",
    "    y=alt.Y('Proportion', scale=alt.Scale(type='sqrt')),\n",
    "    color=alt.Color(\"Parameter\", scale=alt.Scale(scheme='greenblue'))\n",
    ").properties(\n",
    "    width=200,\n",
    "    height=200,\n",
    "    title=\"Relaxed selection in Mammalian REM2\"\n",
    ").facet(\n",
    "    facet=alt.Facet('Taxa',sort=alt.EncodingSortField('K', order='descending')),\n",
    "    columns=3\n",
    ")\n",
    "\n",
    "\n",
    "line.configure_title(\n",
    "    fontSize=20,\n",
    "    font='Courier',\n",
    "    anchor='start',\n",
    "    color='black'\n",
    ")\n",
    "\n",
    "\n",
    "\n",
    "line"
   ]
  },
  {
   "cell_type": "code",
   "execution_count": 153,
   "id": "2d5dc07d-72e0-4778-a100-32bb65e963f0",
   "metadata": {},
   "outputs": [
    {
     "ename": "AttributeError",
     "evalue": "'FacetChart' object has no attribute 'mark_text'",
     "output_type": "error",
     "traceback": [
      "\u001b[0;31m---------------------------------------------------------------------------\u001b[0m",
      "\u001b[0;31mAttributeError\u001b[0m                            Traceback (most recent call last)",
      "\u001b[0;32m/var/folders/3l/76gtv9qd0v3_8hn3cb7hfbs40000gn/T/ipykernel_726/953694221.py\u001b[0m in \u001b[0;36m<module>\u001b[0;34m\u001b[0m\n\u001b[1;32m     20\u001b[0m \u001b[0;34m\u001b[0m\u001b[0m\n\u001b[1;32m     21\u001b[0m \u001b[0;31m# Configure text\u001b[0m\u001b[0;34m\u001b[0m\u001b[0;34m\u001b[0m\u001b[0m\n\u001b[0;32m---> 22\u001b[0;31m text = line.mark_text(baseline='middle').encode(\n\u001b[0m\u001b[1;32m     23\u001b[0m     \u001b[0mtext\u001b[0m\u001b[0;34m=\u001b[0m\u001b[0;34m'K'\u001b[0m\u001b[0;34m,\u001b[0m\u001b[0;34m\u001b[0m\u001b[0;34m\u001b[0m\u001b[0m\n\u001b[1;32m     24\u001b[0m )\n",
      "\u001b[0;32m/opt/anaconda3/lib/python3.9/site-packages/altair/utils/schemapi.py\u001b[0m in \u001b[0;36m__getattr__\u001b[0;34m(self, attr)\u001b[0m\n\u001b[1;32m    255\u001b[0m             \u001b[0;32mexcept\u001b[0m \u001b[0mAttributeError\u001b[0m\u001b[0;34m:\u001b[0m\u001b[0;34m\u001b[0m\u001b[0;34m\u001b[0m\u001b[0m\n\u001b[1;32m    256\u001b[0m                 \u001b[0m_getattr\u001b[0m \u001b[0;34m=\u001b[0m \u001b[0msuper\u001b[0m\u001b[0;34m(\u001b[0m\u001b[0mSchemaBase\u001b[0m\u001b[0;34m,\u001b[0m \u001b[0mself\u001b[0m\u001b[0;34m)\u001b[0m\u001b[0;34m.\u001b[0m\u001b[0m__getattribute__\u001b[0m\u001b[0;34m\u001b[0m\u001b[0;34m\u001b[0m\u001b[0m\n\u001b[0;32m--> 257\u001b[0;31m             \u001b[0;32mreturn\u001b[0m \u001b[0m_getattr\u001b[0m\u001b[0;34m(\u001b[0m\u001b[0mattr\u001b[0m\u001b[0;34m)\u001b[0m\u001b[0;34m\u001b[0m\u001b[0;34m\u001b[0m\u001b[0m\n\u001b[0m\u001b[1;32m    258\u001b[0m \u001b[0;34m\u001b[0m\u001b[0m\n\u001b[1;32m    259\u001b[0m     \u001b[0;32mdef\u001b[0m \u001b[0m__setattr__\u001b[0m\u001b[0;34m(\u001b[0m\u001b[0mself\u001b[0m\u001b[0;34m,\u001b[0m \u001b[0mitem\u001b[0m\u001b[0;34m,\u001b[0m \u001b[0mval\u001b[0m\u001b[0;34m)\u001b[0m\u001b[0;34m:\u001b[0m\u001b[0;34m\u001b[0m\u001b[0;34m\u001b[0m\u001b[0m\n",
      "\u001b[0;31mAttributeError\u001b[0m: 'FacetChart' object has no attribute 'mark_text'"
     ]
    }
   ],
   "source": [
    "source = df\n",
    "\n",
    "line = alt.Chart(source).mark_bar().encode(\n",
    "    x=alt.X('Gene_Omega', scale=alt.Scale(type='sqrt'), title=\"Omega distribution\"),\n",
    "    y=alt.Y('Proportion', scale=alt.Scale(type='sqrt')),\n",
    "    color=alt.Color(\"Parameter\", title=\"Rate\")\n",
    ").properties(\n",
    "    width=200,\n",
    "    height=200,\n",
    "    title=\"Relaxed selection in Mammalian REM2\"\n",
    ").facet(\n",
    "    facet='Taxa',\n",
    "    columns=3\n",
    ").configure_title(\n",
    "    fontSize=20,\n",
    "    font='Courier',\n",
    "    anchor='start',\n",
    "    color='black'\n",
    ")\n",
    "\n",
    "# Configure text\n",
    "text = line.mark_text(baseline='middle').encode(\n",
    "    text='K',\n",
    ")\n",
    "\n",
    "\n",
    "line + text"
   ]
  },
  {
   "cell_type": "markdown",
   "id": "f2933e3c-f81c-4d1e-bb76-43cfd074b526",
   "metadata": {},
   "source": [
    "## End of file"
   ]
  },
  {
   "cell_type": "code",
   "execution_count": 28,
   "id": "e4db0e44-1aef-4023-a5cf-8c502ae3b24b",
   "metadata": {},
   "outputs": [
    {
     "name": "stdout",
     "output_type": "stream",
     "text": [
      "Label: Primates\n"
     ]
    },
    {
     "data": {
      "text/plain": [
       "dict_keys(['General descriptive', 'MG94xREV with separate rates for branch sets', 'Nucleotide GTR', 'RELAX alternative', 'RELAX null', 'RELAX partitioned descriptive'])"
      ]
     },
     "execution_count": 28,
     "metadata": {},
     "output_type": "execute_result"
    }
   ],
   "source": [
    "# Process them separately\n",
    "\n",
    "#TEST_FILE = \"/Users/user/Documents/GeneInvestigator/results/BDNF/Recombinants/BDNF_codons_RDP_recombinationFree.fas.Carnivora.RELAX.json\"\n",
    "#TEST_FILE = \"/Users/user/Documents/GeneInvestigator/results/BDNF/Recombinants/BDNF_codons_RDP_recombinationFree.fas.Primates.RELAX.json\"\n",
    "#TEST_FILE = '/Users/user/Documents/GeneInvestigator/results/BDNF/Recombinants/BDNF_codons_RDP_recombinationFree.fas.Eulipotyphla.RELAX.json'\n",
    "\n",
    "TEST_FILE = RELAX_FILES[0]\n",
    "label = \"Primates\"\n",
    "\n",
    "print(\"Label:\", label)\n",
    "\n",
    "fits = getRELAX_fits(TEST_FILE)\n",
    "\n",
    "fits.keys()\n",
    "\n",
    "# print(fits[\"RELAX partitioned descriptive\"])"
   ]
  },
  {
   "cell_type": "code",
   "execution_count": 29,
   "id": "746d395c-06f6-4ff0-8605-e738615b5aae",
   "metadata": {},
   "outputs": [
    {
     "data": {
      "text/html": [
       "<div>\n",
       "<style scoped>\n",
       "    .dataframe tbody tr th:only-of-type {\n",
       "        vertical-align: middle;\n",
       "    }\n",
       "\n",
       "    .dataframe tbody tr th {\n",
       "        vertical-align: top;\n",
       "    }\n",
       "\n",
       "    .dataframe thead th {\n",
       "        text-align: right;\n",
       "    }\n",
       "</style>\n",
       "<table border=\"1\" class=\"dataframe\">\n",
       "  <thead>\n",
       "    <tr style=\"text-align: right;\">\n",
       "      <th></th>\n",
       "      <th>General descriptive</th>\n",
       "      <th>MG94xREV with separate rates for branch sets</th>\n",
       "      <th>Nucleotide GTR</th>\n",
       "      <th>RELAX alternative</th>\n",
       "      <th>RELAX null</th>\n",
       "      <th>RELAX partitioned descriptive</th>\n",
       "    </tr>\n",
       "  </thead>\n",
       "  <tbody>\n",
       "    <tr>\n",
       "      <th>AIC-c</th>\n",
       "      <td>53493.873186</td>\n",
       "      <td>54655.786015</td>\n",
       "      <td>57923.846192</td>\n",
       "      <td>53073.633065</td>\n",
       "      <td>53160.454364</td>\n",
       "      <td>52978.190701</td>\n",
       "    </tr>\n",
       "    <tr>\n",
       "      <th>Log Likelihood</th>\n",
       "      <td>-26063.890676</td>\n",
       "      <td>-26974.8073</td>\n",
       "      <td>-28606.555759</td>\n",
       "      <td>-26170.649135</td>\n",
       "      <td>-26220.097857</td>\n",
       "      <td>-26098.76933</td>\n",
       "    </tr>\n",
       "    <tr>\n",
       "      <th>Rate Distributions</th>\n",
       "      <td>{'Shared': {'0': {'omega': 6.411170891544653e-...</td>\n",
       "      <td>{'non-synonymous/synonymous rate ratio for *Ar...</td>\n",
       "      <td>{'Substitution rate from nucleotide A to nucle...</td>\n",
       "      <td>{'Artiodactyla': {'0': {'omega': 0, 'proportio...</td>\n",
       "      <td>{'Primates': {'0': {'omega': 0.047872201701830...</td>\n",
       "      <td>{'Artiodactyla': {'0': {'omega': 0.01740803078...</td>\n",
       "    </tr>\n",
       "    <tr>\n",
       "      <th>display order</th>\n",
       "      <td>4</td>\n",
       "      <td>1</td>\n",
       "      <td>0</td>\n",
       "      <td>2</td>\n",
       "      <td>3</td>\n",
       "      <td>5</td>\n",
       "    </tr>\n",
       "    <tr>\n",
       "      <th>estimated parameters</th>\n",
       "      <td>679</td>\n",
       "      <td>352</td>\n",
       "      <td>355</td>\n",
       "      <td>365</td>\n",
       "      <td>359</td>\n",
       "      <td>389</td>\n",
       "    </tr>\n",
       "    <tr>\n",
       "      <th>Equilibrium frequencies</th>\n",
       "      <td>NaN</td>\n",
       "      <td>[[0.009951609793992684], [0.02282437721101601]...</td>\n",
       "      <td>[[0.2137463968880307], [0.321103741639381], [0...</td>\n",
       "      <td>NaN</td>\n",
       "      <td>NaN</td>\n",
       "      <td>NaN</td>\n",
       "    </tr>\n",
       "  </tbody>\n",
       "</table>\n",
       "</div>"
      ],
      "text/plain": [
       "                                                       General descriptive  \\\n",
       "AIC-c                                                         53493.873186   \n",
       "Log Likelihood                                               -26063.890676   \n",
       "Rate Distributions       {'Shared': {'0': {'omega': 6.411170891544653e-...   \n",
       "display order                                                            4   \n",
       "estimated parameters                                                   679   \n",
       "Equilibrium frequencies                                                NaN   \n",
       "\n",
       "                              MG94xREV with separate rates for branch sets  \\\n",
       "AIC-c                                                         54655.786015   \n",
       "Log Likelihood                                                 -26974.8073   \n",
       "Rate Distributions       {'non-synonymous/synonymous rate ratio for *Ar...   \n",
       "display order                                                            1   \n",
       "estimated parameters                                                   352   \n",
       "Equilibrium frequencies  [[0.009951609793992684], [0.02282437721101601]...   \n",
       "\n",
       "                                                            Nucleotide GTR  \\\n",
       "AIC-c                                                         57923.846192   \n",
       "Log Likelihood                                               -28606.555759   \n",
       "Rate Distributions       {'Substitution rate from nucleotide A to nucle...   \n",
       "display order                                                            0   \n",
       "estimated parameters                                                   355   \n",
       "Equilibrium frequencies  [[0.2137463968880307], [0.321103741639381], [0...   \n",
       "\n",
       "                                                         RELAX alternative  \\\n",
       "AIC-c                                                         53073.633065   \n",
       "Log Likelihood                                               -26170.649135   \n",
       "Rate Distributions       {'Artiodactyla': {'0': {'omega': 0, 'proportio...   \n",
       "display order                                                            2   \n",
       "estimated parameters                                                   365   \n",
       "Equilibrium frequencies                                                NaN   \n",
       "\n",
       "                                                                RELAX null  \\\n",
       "AIC-c                                                         53160.454364   \n",
       "Log Likelihood                                               -26220.097857   \n",
       "Rate Distributions       {'Primates': {'0': {'omega': 0.047872201701830...   \n",
       "display order                                                            3   \n",
       "estimated parameters                                                   359   \n",
       "Equilibrium frequencies                                                NaN   \n",
       "\n",
       "                                             RELAX partitioned descriptive  \n",
       "AIC-c                                                         52978.190701  \n",
       "Log Likelihood                                                -26098.76933  \n",
       "Rate Distributions       {'Artiodactyla': {'0': {'omega': 0.01740803078...  \n",
       "display order                                                            5  \n",
       "estimated parameters                                                   389  \n",
       "Equilibrium frequencies                                                NaN  "
      ]
     },
     "execution_count": 29,
     "metadata": {},
     "output_type": "execute_result"
    }
   ],
   "source": [
    "df = pd.DataFrame.from_dict(fits, orient='index')\n",
    "df.T"
   ]
  },
  {
   "cell_type": "code",
   "execution_count": 30,
   "id": "5158388c-2d1c-4836-831f-9559c5b03aeb",
   "metadata": {
    "scrolled": true
   },
   "outputs": [
    {
     "ename": "KeyError",
     "evalue": "'Reference'",
     "output_type": "error",
     "traceback": [
      "\u001b[0;31m---------------------------------------------------------------------------\u001b[0m",
      "\u001b[0;31mKeyError\u001b[0m                                  Traceback (most recent call last)",
      "\u001b[0;32m/var/folders/3l/76gtv9qd0v3_8hn3cb7hfbs40000gn/T/ipykernel_726/653010738.py\u001b[0m in \u001b[0;36m<module>\u001b[0;34m\u001b[0m\n\u001b[0;32m----> 1\u001b[0;31m \u001b[0mdf2_Ref\u001b[0m \u001b[0;34m=\u001b[0m \u001b[0mpd\u001b[0m\u001b[0;34m.\u001b[0m\u001b[0mDataFrame\u001b[0m\u001b[0;34m.\u001b[0m\u001b[0mfrom_dict\u001b[0m\u001b[0;34m(\u001b[0m\u001b[0mfits\u001b[0m\u001b[0;34m[\u001b[0m\u001b[0;34m\"RELAX partitioned descriptive\"\u001b[0m\u001b[0;34m]\u001b[0m\u001b[0;34m[\u001b[0m\u001b[0;34m\"Rate Distributions\"\u001b[0m\u001b[0;34m]\u001b[0m\u001b[0;34m[\u001b[0m\u001b[0;34m\"Reference\"\u001b[0m\u001b[0;34m]\u001b[0m\u001b[0;34m,\u001b[0m \u001b[0morient\u001b[0m\u001b[0;34m=\u001b[0m\u001b[0;34m'index'\u001b[0m\u001b[0;34m)\u001b[0m\u001b[0;34m\u001b[0m\u001b[0;34m\u001b[0m\u001b[0m\n\u001b[0m\u001b[1;32m      2\u001b[0m \u001b[0;34m\u001b[0m\u001b[0m\n\u001b[1;32m      3\u001b[0m \u001b[0;31m# df_Unc[\"proportion\"] = round(df_Unc[\"proportion\"] * 100, 2)\u001b[0m\u001b[0;34m\u001b[0m\u001b[0;34m\u001b[0m\u001b[0m\n\u001b[1;32m      4\u001b[0m \u001b[0mdf2_Ref\u001b[0m\u001b[0;34m\u001b[0m\u001b[0;34m\u001b[0m\u001b[0m\n",
      "\u001b[0;31mKeyError\u001b[0m: 'Reference'"
     ]
    }
   ],
   "source": [
    "df2_Ref = pd.DataFrame.from_dict(fits[\"RELAX partitioned descriptive\"][\"Rate Distributions\"][\"Reference\"], orient='index')\n",
    "\n",
    "# df_Unc[\"proportion\"] = round(df_Unc[\"proportion\"] * 100, 2)\n",
    "df2_Ref"
   ]
  },
  {
   "cell_type": "code",
   "execution_count": 31,
   "id": "a3f6918d-cf2c-4148-a651-b8299f7285a7",
   "metadata": {
    "scrolled": true
   },
   "outputs": [
    {
     "ename": "KeyError",
     "evalue": "'Test'",
     "output_type": "error",
     "traceback": [
      "\u001b[0;31m---------------------------------------------------------------------------\u001b[0m",
      "\u001b[0;31mKeyError\u001b[0m                                  Traceback (most recent call last)",
      "\u001b[0;32m/var/folders/3l/76gtv9qd0v3_8hn3cb7hfbs40000gn/T/ipykernel_726/1118420722.py\u001b[0m in \u001b[0;36m<module>\u001b[0;34m\u001b[0m\n\u001b[0;32m----> 1\u001b[0;31m \u001b[0mdf3_Test\u001b[0m \u001b[0;34m=\u001b[0m \u001b[0mpd\u001b[0m\u001b[0;34m.\u001b[0m\u001b[0mDataFrame\u001b[0m\u001b[0;34m.\u001b[0m\u001b[0mfrom_dict\u001b[0m\u001b[0;34m(\u001b[0m\u001b[0mfits\u001b[0m\u001b[0;34m[\u001b[0m\u001b[0;34m\"RELAX partitioned descriptive\"\u001b[0m\u001b[0;34m]\u001b[0m\u001b[0;34m[\u001b[0m\u001b[0;34m\"Rate Distributions\"\u001b[0m\u001b[0;34m]\u001b[0m\u001b[0;34m[\u001b[0m\u001b[0;34m\"Test\"\u001b[0m\u001b[0;34m]\u001b[0m\u001b[0;34m,\u001b[0m \u001b[0morient\u001b[0m\u001b[0;34m=\u001b[0m\u001b[0;34m'index'\u001b[0m\u001b[0;34m)\u001b[0m\u001b[0;34m\u001b[0m\u001b[0;34m\u001b[0m\u001b[0m\n\u001b[0m\u001b[1;32m      2\u001b[0m \u001b[0mdf3_Test\u001b[0m\u001b[0;34m\u001b[0m\u001b[0;34m\u001b[0m\u001b[0m\n",
      "\u001b[0;31mKeyError\u001b[0m: 'Test'"
     ]
    }
   ],
   "source": [
    "df3_Test = pd.DataFrame.from_dict(fits[\"RELAX partitioned descriptive\"][\"Rate Distributions\"][\"Test\"], orient='index')\n",
    "df3_Test"
   ]
  },
  {
   "cell_type": "code",
   "execution_count": 32,
   "id": "3a4c811e-8652-429a-94dd-02472270c9c1",
   "metadata": {},
   "outputs": [
    {
     "ename": "NameError",
     "evalue": "name 'df2_Ref' is not defined",
     "output_type": "error",
     "traceback": [
      "\u001b[0;31m---------------------------------------------------------------------------\u001b[0m",
      "\u001b[0;31mNameError\u001b[0m                                 Traceback (most recent call last)",
      "\u001b[0;32m/var/folders/3l/76gtv9qd0v3_8hn3cb7hfbs40000gn/T/ipykernel_726/2573823111.py\u001b[0m in \u001b[0;36m<module>\u001b[0;34m\u001b[0m\n\u001b[1;32m      1\u001b[0m \u001b[0;31m# Unconstrained model\u001b[0m\u001b[0;34m\u001b[0m\u001b[0;34m\u001b[0m\u001b[0m\n\u001b[1;32m      2\u001b[0m \u001b[0;34m\u001b[0m\u001b[0m\n\u001b[0;32m----> 3\u001b[0;31m \u001b[0msource\u001b[0m \u001b[0;34m=\u001b[0m \u001b[0mdf2_Ref\u001b[0m\u001b[0;34m\u001b[0m\u001b[0;34m\u001b[0m\u001b[0m\n\u001b[0m\u001b[1;32m      4\u001b[0m \u001b[0mdf2_Ref\u001b[0m\u001b[0;34m[\u001b[0m\u001b[0;34m\"log(omega)\"\u001b[0m\u001b[0;34m]\u001b[0m \u001b[0;34m=\u001b[0m \u001b[0mnp\u001b[0m\u001b[0;34m.\u001b[0m\u001b[0mlog10\u001b[0m\u001b[0;34m(\u001b[0m\u001b[0mdf2_Ref\u001b[0m\u001b[0;34m[\u001b[0m\u001b[0;34m\"omega\"\u001b[0m\u001b[0;34m]\u001b[0m\u001b[0;34m)\u001b[0m\u001b[0;34m\u001b[0m\u001b[0;34m\u001b[0m\u001b[0m\n\u001b[1;32m      5\u001b[0m \u001b[0mdf2_Ref\u001b[0m\u001b[0;34m[\u001b[0m\u001b[0;34m\"Color\"\u001b[0m\u001b[0;34m]\u001b[0m \u001b[0;34m=\u001b[0m \u001b[0;34m\"Background\"\u001b[0m\u001b[0;34m\u001b[0m\u001b[0;34m\u001b[0m\u001b[0m\n",
      "\u001b[0;31mNameError\u001b[0m: name 'df2_Ref' is not defined"
     ]
    }
   ],
   "source": [
    "# Unconstrained model\n",
    "\n",
    "source = df2_Ref\n",
    "df2_Ref[\"log(omega)\"] = np.log10(df2_Ref[\"omega\"])\n",
    "df2_Ref[\"Color\"] = \"Background\"\n",
    "\n",
    "order = [\"Background\", label]\n",
    "\n",
    "line = alt.Chart(source).mark_bar().encode(\n",
    "    x='log(omega)',\n",
    "    y='proportion',\n",
    "    color=alt.Color('Color', sort=order)\n",
    ").properties(\n",
    "    width=500,\n",
    "    height=400,\n",
    "    title=label\n",
    ")\n",
    "\n",
    "line.configure_title(\n",
    "    fontSize=20,\n",
    "    font='Courier',\n",
    "    anchor='start',\n",
    "    color='gray'\n",
    ")\n",
    "\n",
    "df3_Test[\"log(omega)\"] = np.log10(df3_Test[\"omega\"])\n",
    "df3_Test[\"Color\"] = label\n",
    "\n",
    "source = df3_Test\n",
    "\n",
    "line2 = alt.Chart(source).mark_bar().encode(\n",
    "    x='log(omega)',\n",
    "    y='proportion',\n",
    "     color=alt.Color('Color', sort=order)\n",
    ").properties(\n",
    "    width=500,\n",
    "    height=400)\n",
    "\n",
    "line + line2"
   ]
  },
  {
   "cell_type": "code",
   "execution_count": 60,
   "id": "empirical-latitude",
   "metadata": {},
   "outputs": [
    {
     "data": {
      "text/html": [
       "<div>\n",
       "<style scoped>\n",
       "    .dataframe tbody tr th:only-of-type {\n",
       "        vertical-align: middle;\n",
       "    }\n",
       "\n",
       "    .dataframe tbody tr th {\n",
       "        vertical-align: top;\n",
       "    }\n",
       "\n",
       "    .dataframe thead th {\n",
       "        text-align: right;\n",
       "    }\n",
       "</style>\n",
       "<table border=\"1\" class=\"dataframe\">\n",
       "  <thead>\n",
       "    <tr style=\"text-align: right;\">\n",
       "      <th></th>\n",
       "      <th>omega</th>\n",
       "      <th>proportion</th>\n",
       "      <th>log(omega)</th>\n",
       "      <th>Color</th>\n",
       "    </tr>\n",
       "  </thead>\n",
       "  <tbody>\n",
       "    <tr>\n",
       "      <th>0</th>\n",
       "      <td>0.000000</td>\n",
       "      <td>0.994731</td>\n",
       "      <td>-inf</td>\n",
       "      <td>Test</td>\n",
       "    </tr>\n",
       "    <tr>\n",
       "      <th>1</th>\n",
       "      <td>0.240077</td>\n",
       "      <td>0.000000</td>\n",
       "      <td>-0.619650</td>\n",
       "      <td>Test</td>\n",
       "    </tr>\n",
       "    <tr>\n",
       "      <th>2</th>\n",
       "      <td>11.365695</td>\n",
       "      <td>0.005269</td>\n",
       "      <td>1.055596</td>\n",
       "      <td>Test</td>\n",
       "    </tr>\n",
       "  </tbody>\n",
       "</table>\n",
       "</div>"
      ],
      "text/plain": [
       "       omega  proportion  log(omega) Color\n",
       "0   0.000000    0.994731        -inf  Test\n",
       "1   0.240077    0.000000   -0.619650  Test\n",
       "2  11.365695    0.005269    1.055596  Test"
      ]
     },
     "execution_count": 60,
     "metadata": {},
     "output_type": "execute_result"
    }
   ],
   "source": [
    "df3_Test"
   ]
  },
  {
   "cell_type": "code",
   "execution_count": 61,
   "id": "iraqi-print",
   "metadata": {},
   "outputs": [
    {
     "data": {
      "text/html": [
       "<div>\n",
       "<style scoped>\n",
       "    .dataframe tbody tr th:only-of-type {\n",
       "        vertical-align: middle;\n",
       "    }\n",
       "\n",
       "    .dataframe tbody tr th {\n",
       "        vertical-align: top;\n",
       "    }\n",
       "\n",
       "    .dataframe thead th {\n",
       "        text-align: right;\n",
       "    }\n",
       "</style>\n",
       "<table border=\"1\" class=\"dataframe\">\n",
       "  <thead>\n",
       "    <tr style=\"text-align: right;\">\n",
       "      <th></th>\n",
       "      <th>omega</th>\n",
       "      <th>proportion</th>\n",
       "      <th>log(omega)</th>\n",
       "      <th>Color</th>\n",
       "    </tr>\n",
       "  </thead>\n",
       "  <tbody>\n",
       "    <tr>\n",
       "      <th>0</th>\n",
       "      <td>5.362155e-02</td>\n",
       "      <td>0.985928</td>\n",
       "      <td>-1.270661</td>\n",
       "      <td>Reference</td>\n",
       "    </tr>\n",
       "    <tr>\n",
       "      <th>1</th>\n",
       "      <td>8.710846e-01</td>\n",
       "      <td>0.013983</td>\n",
       "      <td>-0.059940</td>\n",
       "      <td>Reference</td>\n",
       "    </tr>\n",
       "    <tr>\n",
       "      <th>2</th>\n",
       "      <td>9.999999e+09</td>\n",
       "      <td>0.000090</td>\n",
       "      <td>10.000000</td>\n",
       "      <td>Reference</td>\n",
       "    </tr>\n",
       "  </tbody>\n",
       "</table>\n",
       "</div>"
      ],
      "text/plain": [
       "          omega  proportion  log(omega)      Color\n",
       "0  5.362155e-02    0.985928   -1.270661  Reference\n",
       "1  8.710846e-01    0.013983   -0.059940  Reference\n",
       "2  9.999999e+09    0.000090   10.000000  Reference"
      ]
     },
     "execution_count": 61,
     "metadata": {},
     "output_type": "execute_result"
    }
   ],
   "source": [
    "df2_Ref"
   ]
  },
  {
   "cell_type": "code",
   "execution_count": 62,
   "id": "bd163005-132a-48aa-8fc7-f6272d9ce008",
   "metadata": {},
   "outputs": [],
   "source": [
    "# Process them together as subplots"
   ]
  },
  {
   "cell_type": "code",
   "execution_count": 63,
   "id": "6f30ac28-af30-455c-8888-05845f61af35",
   "metadata": {},
   "outputs": [],
   "source": [
    "# RELAX Interpretation\n",
    "# http://hyphy.org/methods/selection-methods/#relax\n",
    "# method paper: https://academic.oup.com/mbe/article/32/3/820/981440\n",
    "\n"
   ]
  },
  {
   "cell_type": "markdown",
   "id": "0543b42e-9357-48cc-873d-40d760f015ac",
   "metadata": {},
   "source": [
    "# Figure legend\n",
    "Patterns of natural selection across taxonomic groups under the Partitioned Descriptive model of the RELAX method. Selection profiles for BDNF are shown along Reference and Test branches for each taxonomic group. Three omega parameters and the relative proportion of sites they represent are plotted for Test (orange) and Referenc (blue) branches. Only omega categories representing nonzero proportions of sites are shown. Neutral selection corresponds to the omega=1.0 in this log10 scaled X-axis. These taxonomic groups represent datasets where significant (p<= 0.05) for relaxed selection was detected between test and reference branches."
   ]
  },
  {
   "cell_type": "markdown",
   "id": "6a1aa3ae-0a7f-44df-87b5-cc21cbbc378f",
   "metadata": {},
   "source": []
  }
 ],
 "metadata": {
  "kernelspec": {
   "display_name": "Python 3 (ipykernel)",
   "language": "python",
   "name": "python3"
  },
  "language_info": {
   "codemirror_mode": {
    "name": "ipython",
    "version": 3
   },
   "file_extension": ".py",
   "mimetype": "text/x-python",
   "name": "python",
   "nbconvert_exporter": "python",
   "pygments_lexer": "ipython3",
   "version": "3.9.15"
  }
 },
 "nbformat": 4,
 "nbformat_minor": 5
}
