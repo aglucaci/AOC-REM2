{
 "cells": [
  {
   "cell_type": "code",
   "execution_count": 18,
   "id": "8ee994eb-d454-496a-90b5-35ac60bb060d",
   "metadata": {},
   "outputs": [],
   "source": [
    "# Imports\n",
    "\n",
    "import os\n",
    "import sys\n",
    "import pandas as pd\n",
    "from pandas.plotting import scatter_matrix\n",
    "import random\n",
    "from matplotlib import pyplot as plt\n",
    "import itertools\n",
    "import numpy as np\n",
    "from matplotlib.pyplot import figure\n",
    "from Bio.Seq import Seq\n",
    "from Bio import SeqIO\n",
    "from Bio.SeqRecord import SeqRecord"
   ]
  },
  {
   "cell_type": "code",
   "execution_count": 19,
   "id": "28a1d54d-8268-4a97-b92d-e5662fca97c9",
   "metadata": {},
   "outputs": [],
   "source": [
    "HUMAN_ID = \"NM_173527_3_Homo_sapiens_RRAD_and_GEM_like_GTPase_2_REM2_mRNA_1\"\n",
    "\n",
    "FASTA = os.path.join(\"..\", \n",
    "                     \"results\", \n",
    "                     \"mammalian_REM2\", \n",
    "                     \"mammalian_REM2_codons.SA.FilterOutliers.fasta\")"
   ]
  },
  {
   "cell_type": "code",
   "execution_count": 21,
   "id": "d42d4433-df9c-4c93-9729-6a5b20a57251",
   "metadata": {},
   "outputs": [],
   "source": [
    "def process_sites(input_file):                                \n",
    "    fasta_sequence = SeqIO.parse(open(input_file),'fasta')\n",
    "    fasta_dict = {}                                                   #init\n",
    "    for record in fasta_sequence:                                     #loops over each species\n",
    "        ID, SEQ, site_count, nt_num = record.id, record.seq, 1, 0\n",
    "        fasta_dict[ID] = {}                                             #init\n",
    "        while SEQ[nt_num:nt_num+3]:                                     # loop over codons\n",
    "            codon = str(SEQ[nt_num:nt_num+3])\n",
    "            fasta_dict[ID][site_count] = codon\n",
    "            site_count += 1\n",
    "            nt_num += 3\n",
    "         #end while\n",
    "    #end for\n",
    "    return fasta_dict\n",
    "#end method"
   ]
  },
  {
   "cell_type": "code",
   "execution_count": 22,
   "id": "f83c10cf-5527-4f71-8b1a-4fe25ed11528",
   "metadata": {},
   "outputs": [],
   "source": [
    "a = process_sites(FASTA)"
   ]
  },
  {
   "cell_type": "code",
   "execution_count": 23,
   "id": "38d0c667-91ea-4aac-a0b3-7a6e2457de90",
   "metadata": {},
   "outputs": [],
   "source": [
    "# The alignment is from 1 to N\n",
    "# The human sequence is a discontinuous list of integers from i to j\n",
    "MAP_ALIGNMENT_TO_HUMAN = []\n",
    "\n",
    "for site in a[HUMAN_ID].keys():\n",
    "    codon = a[HUMAN_ID][site]\n",
    "    if \"-\" in codon and codon != \"---\":\n",
    "        print(codon) # look for ambiguous codons visually.\n",
    "    # end if\n",
    "    \n",
    "    if codon != \"---\": # not a gap site.\n",
    "        #print(site, codon)\n",
    "        MAP_ALIGNMENT_TO_HUMAN.append(site)\n",
    "    #end if\n",
    "#end for"
   ]
  },
  {
   "cell_type": "code",
   "execution_count": 24,
   "id": "4dc69d08-04fa-4b0e-8ba4-837d336f9f53",
   "metadata": {},
   "outputs": [],
   "source": [
    "output_dict = {}\n",
    "\n",
    "A = []\n",
    "B = []\n",
    "\n",
    "for n, item in enumerate(MAP_ALIGNMENT_TO_HUMAN):\n",
    "    A.append(n+1)\n",
    "    B.append(item)\n",
    "#end for\n",
    "\n",
    "output_dict[\"HumanSite\"] = A\n",
    "output_dict[\"AlignmentSite\"] = B"
   ]
  },
  {
   "cell_type": "code",
   "execution_count": 25,
   "id": "3e545702-b5fb-47c0-8057-50b7f2760ab2",
   "metadata": {},
   "outputs": [
    {
     "data": {
      "text/html": [
       "<div>\n",
       "<style scoped>\n",
       "    .dataframe tbody tr th:only-of-type {\n",
       "        vertical-align: middle;\n",
       "    }\n",
       "\n",
       "    .dataframe tbody tr th {\n",
       "        vertical-align: top;\n",
       "    }\n",
       "\n",
       "    .dataframe thead th {\n",
       "        text-align: right;\n",
       "    }\n",
       "</style>\n",
       "<table border=\"1\" class=\"dataframe\">\n",
       "  <thead>\n",
       "    <tr style=\"text-align: right;\">\n",
       "      <th></th>\n",
       "      <th>HumanSite</th>\n",
       "      <th>AlignmentSite</th>\n",
       "    </tr>\n",
       "  </thead>\n",
       "  <tbody>\n",
       "    <tr>\n",
       "      <th>1</th>\n",
       "      <td>1</td>\n",
       "      <td>1</td>\n",
       "    </tr>\n",
       "    <tr>\n",
       "      <th>2</th>\n",
       "      <td>2</td>\n",
       "      <td>2</td>\n",
       "    </tr>\n",
       "    <tr>\n",
       "      <th>3</th>\n",
       "      <td>3</td>\n",
       "      <td>4</td>\n",
       "    </tr>\n",
       "    <tr>\n",
       "      <th>4</th>\n",
       "      <td>4</td>\n",
       "      <td>5</td>\n",
       "    </tr>\n",
       "    <tr>\n",
       "      <th>5</th>\n",
       "      <td>5</td>\n",
       "      <td>6</td>\n",
       "    </tr>\n",
       "    <tr>\n",
       "      <th>...</th>\n",
       "      <td>...</td>\n",
       "      <td>...</td>\n",
       "    </tr>\n",
       "    <tr>\n",
       "      <th>336</th>\n",
       "      <td>336</td>\n",
       "      <td>623</td>\n",
       "    </tr>\n",
       "    <tr>\n",
       "      <th>337</th>\n",
       "      <td>337</td>\n",
       "      <td>624</td>\n",
       "    </tr>\n",
       "    <tr>\n",
       "      <th>338</th>\n",
       "      <td>338</td>\n",
       "      <td>625</td>\n",
       "    </tr>\n",
       "    <tr>\n",
       "      <th>339</th>\n",
       "      <td>339</td>\n",
       "      <td>626</td>\n",
       "    </tr>\n",
       "    <tr>\n",
       "      <th>340</th>\n",
       "      <td>340</td>\n",
       "      <td>627</td>\n",
       "    </tr>\n",
       "  </tbody>\n",
       "</table>\n",
       "<p>340 rows × 2 columns</p>\n",
       "</div>"
      ],
      "text/plain": [
       "     HumanSite  AlignmentSite\n",
       "1            1              1\n",
       "2            2              2\n",
       "3            3              4\n",
       "4            4              5\n",
       "5            5              6\n",
       "..         ...            ...\n",
       "336        336            623\n",
       "337        337            624\n",
       "338        338            625\n",
       "339        339            626\n",
       "340        340            627\n",
       "\n",
       "[340 rows x 2 columns]"
      ]
     },
     "execution_count": 25,
     "metadata": {},
     "output_type": "execute_result"
    }
   ],
   "source": [
    "# Human site number, alignment site number\n",
    "output_dict\n",
    "\n",
    "df = pd.DataFrame.from_dict(output_dict)\n",
    "df.index += 1\n",
    "df"
   ]
  },
  {
   "cell_type": "code",
   "execution_count": 26,
   "id": "e3ba5084-1807-4e71-b137-7179565116b7",
   "metadata": {},
   "outputs": [],
   "source": [
    "df.to_csv( os.path.join(\"..\", \n",
    "                        \"results\", \n",
    "                        \"mammalian_REM2\", \n",
    "                        \"mammalian_REM2_codons.SA.FilterOutliers.fasta_AlignmentMap.csv\"), \n",
    "          index=False)"
   ]
  },
  {
   "cell_type": "code",
   "execution_count": null,
   "id": "75253f61-515e-4936-8ad9-923354910d38",
   "metadata": {},
   "outputs": [],
   "source": []
  },
  {
   "cell_type": "code",
   "execution_count": null,
   "id": "liked-greece",
   "metadata": {},
   "outputs": [],
   "source": []
  },
  {
   "cell_type": "code",
   "execution_count": null,
   "id": "favorite-purse",
   "metadata": {},
   "outputs": [],
   "source": []
  }
 ],
 "metadata": {
  "kernelspec": {
   "display_name": "Python 3 (ipykernel)",
   "language": "python",
   "name": "python3"
  },
  "language_info": {
   "codemirror_mode": {
    "name": "ipython",
    "version": 3
   },
   "file_extension": ".py",
   "mimetype": "text/x-python",
   "name": "python",
   "nbconvert_exporter": "python",
   "pygments_lexer": "ipython3",
   "version": "3.11.7"
  }
 },
 "nbformat": 4,
 "nbformat_minor": 5
}
