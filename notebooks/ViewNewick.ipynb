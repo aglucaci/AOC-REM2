{
 "cells": [
  {
   "cell_type": "markdown",
   "id": "sixth-advertiser",
   "metadata": {},
   "source": [
    "**This notebook formats long names in newick files, to make them more Human readable.**"
   ]
  },
  {
   "cell_type": "markdown",
   "id": "filled-honduras",
   "metadata": {},
   "source": [
    "# Imports"
   ]
  },
  {
   "cell_type": "code",
   "execution_count": 6,
   "id": "binding-custody",
   "metadata": {},
   "outputs": [],
   "source": [
    "import os\n",
    "import ete3\n",
    "from ete3 import Tree, TreeStyle, NodeStyle, AttrFace\n",
    "import sys"
   ]
  },
  {
   "cell_type": "markdown",
   "id": "administrative-endorsement",
   "metadata": {},
   "source": [
    "# Declares"
   ]
  },
  {
   "cell_type": "code",
   "execution_count": 3,
   "id": "civic-commitment",
   "metadata": {},
   "outputs": [],
   "source": [
    "NEWICK_FILE = os.path.join(\"..\", \n",
    "                           \"results\", \n",
    "                           \"mammalian_REM2\", \n",
    "                           \"mammalian_REM2_codons.SA.FilterOutliers.fasta.treefile\")"
   ]
  },
  {
   "cell_type": "code",
   "execution_count": 7,
   "id": "45028654-8ec2-4b5b-b5dd-2d9792a791e2",
   "metadata": {},
   "outputs": [],
   "source": [
    "# Function to trim or modify the name\n",
    "def trim_name(name):\n",
    "    # Example: Trim the name to the first 10 characters\n",
    "    edit = name.split(\"_\")\n",
    "    trimed_name = \"\"\n",
    "    try:\n",
    "        index = edit.index(\"RRAD\")\n",
    "    except:\n",
    "        try:\n",
    "            index = edit.index(\"RAS\")\n",
    "        except:\n",
    "            try:\n",
    "                index = edit.index(\"rad\")\n",
    "            except:\n",
    "                try:\n",
    "                    index = edit.index(\"GTP\")\n",
    "                except:\n",
    "                    index = 10\n",
    "            # end try\n",
    "        # end try\n",
    "    # end try\n",
    "    \n",
    "    if \"PREDICTED\" in edit:\n",
    "        trimed_name = \" \".join(edit[4:index])\n",
    "    else:\n",
    "        trimed_name = \" \".join(edit[3:index])\n",
    "    #end if\n",
    "    return trimed_name\n",
    "\n",
    "# Load the tree from a file\n",
    "tree = Tree(NEWICK_FILE, format=1)  # Make sure the format matches your tree file\n",
    "\n",
    "# Iterate through all tree nodes and modify their names\n",
    "for node in tree.traverse():\n",
    "    if node.is_leaf():  # Check if the node is a leaf\n",
    "        node.name = trim_name(node.name)\n",
    "\n",
    "# Save the modified tree to a new file\n",
    "tree.write(outfile=\"NewickTreeForVisalization.nwk\", format=1)  # format=1 to preserve branch lengths and bootstrap values\n"
   ]
  },
  {
   "cell_type": "code",
   "execution_count": 5,
   "id": "4203a5b9-2062-4a85-971f-50e52277fba2",
   "metadata": {},
   "outputs": [
    {
     "ename": "NameError",
     "evalue": "name 'sys' is not defined",
     "output_type": "error",
     "traceback": [
      "\u001b[0;31m---------------------------------------------------------------------------\u001b[0m",
      "\u001b[0;31mNameError\u001b[0m                                 Traceback (most recent call last)",
      "Cell \u001b[0;32mIn[5], line 1\u001b[0m\n\u001b[0;32m----> 1\u001b[0m \u001b[43msys\u001b[49m\u001b[38;5;241m.\u001b[39mexit(\u001b[38;5;241m0\u001b[39m)\n",
      "\u001b[0;31mNameError\u001b[0m: name 'sys' is not defined"
     ]
    }
   ],
   "source": [
    "sys.exit(0)"
   ]
  }
 ],
 "metadata": {
  "kernelspec": {
   "display_name": "Python 3 (ipykernel)",
   "language": "python",
   "name": "python3"
  },
  "language_info": {
   "codemirror_mode": {
    "name": "ipython",
    "version": 3
   },
   "file_extension": ".py",
   "mimetype": "text/x-python",
   "name": "python",
   "nbconvert_exporter": "python",
   "pygments_lexer": "ipython3",
   "version": "3.11.7"
  }
 },
 "nbformat": 4,
 "nbformat_minor": 5
}
